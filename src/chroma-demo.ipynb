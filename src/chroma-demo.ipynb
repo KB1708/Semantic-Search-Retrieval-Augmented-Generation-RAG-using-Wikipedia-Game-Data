{
 "cells": [
  {
   "cell_type": "code",
   "execution_count": 6,
   "id": "0b7c0835",
   "metadata": {},
   "outputs": [],
   "source": [
    "import chromadb\n",
    "chroma_client = chromadb.Client()"
   ]
  },
  {
   "cell_type": "code",
   "execution_count": 7,
   "id": "29b5a2b5",
   "metadata": {},
   "outputs": [],
   "source": [
    "collection = chroma_client.get_or_create_collection(\"my_collection\")"
   ]
  },
  {
   "cell_type": "code",
   "execution_count": 8,
   "id": "c0ea5b92",
   "metadata": {},
   "outputs": [
    {
     "name": "stderr",
     "output_type": "stream",
     "text": [
      "C:\\Users\\Kishore\\.cache\\chroma\\onnx_models\\all-MiniLM-L6-v2\\onnx.tar.gz: 100%|██████████| 79.3M/79.3M [00:21<00:00, 3.90MiB/s]  \n"
     ]
    }
   ],
   "source": [
    "collection.add(\n",
    "    ids=[\"id1\", \"id2\"],\n",
    "    documents=[\n",
    "        \"This is a document about pineapple\",\n",
    "        \"This is a document about oranges\"\n",
    "    ]\n",
    ")"
   ]
  },
  {
   "cell_type": "code",
   "execution_count": 13,
   "id": "d6122a22",
   "metadata": {},
   "outputs": [
    {
     "name": "stdout",
     "output_type": "stream",
     "text": [
      "{'data': None,\n",
      " 'distances': [[1.0404009819030762, 1.2430799007415771]],\n",
      " 'documents': [['This is a document about pineapple',\n",
      "                'This is a document about oranges']],\n",
      " 'embeddings': None,\n",
      " 'ids': [['id1', 'id2']],\n",
      " 'included': ['metadatas', 'documents', 'distances'],\n",
      " 'metadatas': [[None, None]],\n",
      " 'uris': None}\n"
     ]
    }
   ],
   "source": [
    "from pprint import pprint\n",
    "results = collection.query(\n",
    "    query_texts=[\"This is a query document about hawaii\"], # Chroma will embed this for you\n",
    "    n_results=2 # how many results to return\n",
    ")\n",
    "pprint(results)\n"
   ]
  },
  {
   "cell_type": "code",
   "execution_count": 17,
   "id": "d354e86a",
   "metadata": {},
   "outputs": [
    {
     "name": "stdout",
     "output_type": "stream",
     "text": [
      "{'data': None,\n",
      " 'distances': [[1.2430799007415771]],\n",
      " 'documents': [['This is a document about oranges']],\n",
      " 'embeddings': None,\n",
      " 'ids': [['id2']],\n",
      " 'included': ['metadatas', 'documents', 'distances'],\n",
      " 'metadatas': [[None]],\n",
      " 'uris': None}\n"
     ]
    }
   ],
   "source": [
    "from pprint import pprint\n",
    "results = collection.query(\n",
    "    query_texts=[\"This is a query document about hawaii\"], # Chroma will embed this for you\n",
    "    n_results=2, # how many results to return\n",
    "    where_document={'$contains': 'oranges'}\n",
    ")\n",
    "pprint(results)\n"
   ]
  },
  {
   "cell_type": "code",
   "execution_count": 33,
   "id": "31e1ca1b",
   "metadata": {},
   "outputs": [
    {
     "data": {
      "text/html": [
       "<div><style>\n",
       ".dataframe > thead > tr,\n",
       ".dataframe > tbody > tr {\n",
       "  text-align: right;\n",
       "  white-space: pre-wrap;\n",
       "}\n",
       "</style>\n",
       "<small>shape: (5, 5)</small><table border=\"1\" class=\"dataframe\"><thead><tr><th>index</th><th>Article</th><th>Date</th><th>Heading</th><th>NewsType</th></tr><tr><td>u32</td><td>str</td><td>str</td><td>str</td><td>str</td></tr></thead><tbody><tr><td>1</td><td>&quot;KARACHI: The Sindh government …</td><td>&quot;1/1/2015&quot;</td><td>&quot;sindh govt decides to cut publ…</td><td>&quot;business&quot;</td></tr><tr><td>2</td><td>&quot;HONG KONG: Asian markets start…</td><td>&quot;1/2/2015&quot;</td><td>&quot;asia stocks up in new year tra…</td><td>&quot;business&quot;</td></tr><tr><td>3</td><td>&quot;HONG KONG:&nbsp;&nbsp;Hong Kong shares o…</td><td>&quot;1/5/2015&quot;</td><td>&quot;hong kong stocks open 0.66 per…</td><td>&quot;business&quot;</td></tr><tr><td>4</td><td>&quot;HONG KONG: Asian markets tumbl…</td><td>&quot;1/6/2015&quot;</td><td>&quot;asian stocks sink euro near ni…</td><td>&quot;business&quot;</td></tr><tr><td>5</td><td>&quot;NEW YORK: US oil prices Monday…</td><td>&quot;1/6/2015&quot;</td><td>&quot;us oil prices slip below 50 a …</td><td>&quot;business&quot;</td></tr></tbody></table></div>"
      ],
      "text/plain": [
       "shape: (5, 5)\n",
       "┌───────┬─────────────────────────────────┬──────────┬─────────────────────────────────┬──────────┐\n",
       "│ index ┆ Article                         ┆ Date     ┆ Heading                         ┆ NewsType │\n",
       "│ ---   ┆ ---                             ┆ ---      ┆ ---                             ┆ ---      │\n",
       "│ u32   ┆ str                             ┆ str      ┆ str                             ┆ str      │\n",
       "╞═══════╪═════════════════════════════════╪══════════╪═════════════════════════════════╪══════════╡\n",
       "│ 1     ┆ KARACHI: The Sindh government … ┆ 1/1/2015 ┆ sindh govt decides to cut publ… ┆ business │\n",
       "│ 2     ┆ HONG KONG: Asian markets start… ┆ 1/2/2015 ┆ asia stocks up in new year tra… ┆ business │\n",
       "│ 3     ┆ HONG KONG:  Hong Kong shares o… ┆ 1/5/2015 ┆ hong kong stocks open 0.66 per… ┆ business │\n",
       "│ 4     ┆ HONG KONG: Asian markets tumbl… ┆ 1/6/2015 ┆ asian stocks sink euro near ni… ┆ business │\n",
       "│ 5     ┆ NEW YORK: US oil prices Monday… ┆ 1/6/2015 ┆ us oil prices slip below 50 a … ┆ business │\n",
       "└───────┴─────────────────────────────────┴──────────┴─────────────────────────────────┴──────────┘"
      ]
     },
     "execution_count": 33,
     "metadata": {},
     "output_type": "execute_result"
    }
   ],
   "source": [
    "import polars as pl\n",
    "articles = pl.read_csv(\"../data/articles.csv\",encoding=\"ISO-8859-1\").with_row_index(offset=1)\n",
    "articles.head()"
   ]
  },
  {
   "cell_type": "code",
   "execution_count": null,
   "id": "a7f7e016",
   "metadata": {},
   "outputs": [],
   "source": []
  }
 ],
 "metadata": {
  "kernelspec": {
   "display_name": "Python 3",
   "language": "python",
   "name": "python3"
  },
  "language_info": {
   "codemirror_mode": {
    "name": "ipython",
    "version": 3
   },
   "file_extension": ".py",
   "mimetype": "text/x-python",
   "name": "python",
   "nbconvert_exporter": "python",
   "pygments_lexer": "ipython3",
   "version": "3.11.13"
  }
 },
 "nbformat": 4,
 "nbformat_minor": 5
}
