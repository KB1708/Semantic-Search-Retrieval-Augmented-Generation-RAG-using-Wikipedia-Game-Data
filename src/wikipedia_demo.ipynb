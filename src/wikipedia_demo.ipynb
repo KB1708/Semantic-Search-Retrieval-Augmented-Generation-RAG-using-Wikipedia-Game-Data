{
 "cells": [
  {
   "attachments": {},
   "cell_type": "markdown",
   "id": "90d11b41-09fe-479b-aec0-fa8e076c3d3b",
   "metadata": {
    "language": "sql"
   },
   "source": [
    "# Semantic Search and Retrieval-Augmented Generation (RAG) \n",
    "1. Drop the dataset if it is already exists\n",
    "2. Create the database\n",
    "3. Use that database\n",
    "4. Inside that database create table called 'video_game_wikipedia'\n",
    "5. define the tables with attributes"
   ]
  },
  {
   "cell_type": "code",
   "execution_count": 10,
   "id": "faebaf88-c354-4a81-818d-b1870483854f",
   "metadata": {
    "execution": {
     "iopub.execute_input": "2025-05-26T06:59:25.801084Z",
     "iopub.status.busy": "2025-05-26T06:59:25.800655Z",
     "iopub.status.idle": "2025-05-26T06:59:39.934387Z",
     "shell.execute_reply": "2025-05-26T06:59:39.933915Z",
     "shell.execute_reply.started": "2025-05-26T06:59:25.801047Z"
    },
    "language": "sql",
    "scrolled": true,
    "trusted": true
   },
   "outputs": [
    {
     "data": {
      "text/html": [
       "<span style=\"color: green\">1 rows affected.</span>"
      ],
      "text/plain": [
       "1 rows affected."
      ]
     },
     "metadata": {},
     "output_type": "display_data"
    },
    {
     "data": {
      "text/html": [
       "<span style=\"color: green\">1 rows affected.</span>"
      ],
      "text/plain": [
       "1 rows affected."
      ]
     },
     "metadata": {},
     "output_type": "display_data"
    },
    {
     "data": {
      "text/html": [
       "<table>\n",
       "    <thead>\n",
       "        <tr>\n",
       "        </tr>\n",
       "    </thead>\n",
       "    <tbody>\n",
       "    </tbody>\n",
       "</table>"
      ],
      "text/plain": [
       "++\n",
       "||\n",
       "++\n",
       "++"
      ]
     },
     "execution_count": 10,
     "metadata": {},
     "output_type": "execute_result"
    }
   ],
   "source": [
    "%%sql\n",
    "drop database if exists video_game_wikipedia;\n",
    "create database video_game_wikipedia;\n",
    "use video_game_wikipedia;\n",
    "\n",
    "create table vecs(\n",
    "    id bigint(20),\n",
    "    url text default null,\n",
    "    paragraph text default null,\n",
    "    v vector(1536) not null,\n",
    "    shard key(id),\n",
    "    key(id) using hash,\n",
    "    fulltext (paragraph)\n",
    ");"
   ]
  },
  {
   "attachments": {},
   "cell_type": "markdown",
   "id": "bc97f20b-ff8d-4495-bfb8-7c56011ecdb3",
   "metadata": {
    "language": "sql"
   },
   "source": [
    "## Function that produces Random floats of specified range"
   ]
  },
  {
   "cell_type": "code",
   "execution_count": 11,
   "id": "25b7ece9-625b-489f-b607-e3ce47d1bd9d",
   "metadata": {
    "execution": {
     "iopub.execute_input": "2025-05-26T06:59:54.866316Z",
     "iopub.status.busy": "2025-05-26T06:59:54.865888Z",
     "iopub.status.idle": "2025-05-26T06:59:55.050378Z",
     "shell.execute_reply": "2025-05-26T06:59:55.049848Z",
     "shell.execute_reply.started": "2025-05-26T06:59:54.866278Z"
    },
    "language": "sql",
    "trusted": true
   },
   "outputs": [
    {
     "data": {
      "text/html": [
       "<span style=\"color: green\">1 rows affected.</span>"
      ],
      "text/plain": [
       "1 rows affected."
      ]
     },
     "metadata": {},
     "output_type": "display_data"
    },
    {
     "data": {
      "text/html": [
       "<table>\n",
       "    <thead>\n",
       "        <tr>\n",
       "        </tr>\n",
       "    </thead>\n",
       "    <tbody>\n",
       "    </tbody>\n",
       "</table>"
      ],
      "text/plain": [
       "++\n",
       "||\n",
       "++\n",
       "++"
      ]
     },
     "execution_count": 11,
     "metadata": {},
     "output_type": "execute_result"
    }
   ],
   "source": [
    "%%sql\n",
    "create or replace function randbetween(a float, b float) returns float\n",
    "as\n",
    "begin\n",
    "    return (rand()*(b-a) + a);\n",
    "end;"
   ]
  },
  {
   "attachments": {},
   "cell_type": "markdown",
   "id": "b848255f-a6d6-46bc-9f55-11774c583633",
   "metadata": {
    "language": "sql"
   },
   "source": [
    "## Using random floats, creating a function to generate a vector of specified length"
   ]
  },
  {
   "cell_type": "code",
   "execution_count": 12,
   "id": "33b8683a-8892-4d9e-9032-162d69cf7667",
   "metadata": {
    "execution": {
     "iopub.execute_input": "2025-05-26T06:59:58.998969Z",
     "iopub.status.busy": "2025-05-26T06:59:58.998652Z",
     "iopub.status.idle": "2025-05-26T06:59:59.322340Z",
     "shell.execute_reply": "2025-05-26T06:59:59.321743Z",
     "shell.execute_reply.started": "2025-05-26T06:59:58.998944Z"
    },
    "language": "sql",
    "trusted": true
   },
   "outputs": [
    {
     "data": {
      "text/html": [
       "<span style=\"color: green\">1 rows affected.</span>"
      ],
      "text/plain": [
       "1 rows affected."
      ]
     },
     "metadata": {},
     "output_type": "display_data"
    },
    {
     "data": {
      "text/html": [
       "<table>\n",
       "    <thead>\n",
       "        <tr>\n",
       "        </tr>\n",
       "    </thead>\n",
       "    <tbody>\n",
       "    </tbody>\n",
       "</table>"
      ],
      "text/plain": [
       "++\n",
       "||\n",
       "++\n",
       "++"
      ]
     },
     "execution_count": 12,
     "metadata": {},
     "output_type": "execute_result"
    }
   ],
   "source": [
    "%%sql\n",
    "set sql_mode = pipes_as_concat;\n",
    "\n",
    "create or replace function gen_vector(length int) returns text as\n",
    "declare s text = \"[\";\n",
    "begin \n",
    "    if length < 2 then\n",
    "        raise user_exception(\"length too short: \" || length);\n",
    "    end if;\n",
    "\n",
    "    for i in 1..length-1 loop\n",
    "        s = s || randbetween(-1,1) || \",\";\n",
    "    end loop;\n",
    "    s = s || randbetween(-1,1) || \"]\";\n",
    "    return s;\n",
    "end;"
   ]
  },
  {
   "attachments": {},
   "cell_type": "markdown",
   "id": "a9774731-6553-4578-9c8a-7f82d2df5432",
   "metadata": {
    "language": "sql"
   },
   "source": [
    "## Function to normalize vectors specifically with dimension (1536)"
   ]
  },
  {
   "cell_type": "code",
   "execution_count": 13,
   "id": "75edf662-1c8f-47fe-a2a0-6457f410833f",
   "metadata": {
    "execution": {
     "iopub.execute_input": "2025-05-26T07:00:04.344207Z",
     "iopub.status.busy": "2025-05-26T07:00:04.343887Z",
     "iopub.status.idle": "2025-05-26T07:00:04.509185Z",
     "shell.execute_reply": "2025-05-26T07:00:04.508660Z",
     "shell.execute_reply.started": "2025-05-26T07:00:04.344187Z"
    },
    "language": "sql",
    "trusted": true
   },
   "outputs": [
    {
     "data": {
      "text/html": [
       "<span style=\"color: green\">1 rows affected.</span>"
      ],
      "text/plain": [
       "1 rows affected."
      ]
     },
     "metadata": {},
     "output_type": "display_data"
    },
    {
     "data": {
      "text/html": [
       "<table>\n",
       "    <thead>\n",
       "        <tr>\n",
       "        </tr>\n",
       "    </thead>\n",
       "    <tbody>\n",
       "    </tbody>\n",
       "</table>"
      ],
      "text/plain": [
       "++\n",
       "||\n",
       "++\n",
       "++"
      ]
     },
     "execution_count": 13,
     "metadata": {},
     "output_type": "execute_result"
    }
   ],
   "source": [
    "%%sql\n",
    "create or replace function normalize(v blob) returns blob as\n",
    "declare \n",
    "    squares blob = vector_mul(v,v);\n",
    "    length float = sqrt(vector_elements_sum(squares));\n",
    "begin\n",
    "    return scalar_vector_mul(1/length, v);\n",
    "end;"
   ]
  },
  {
   "cell_type": "code",
   "execution_count": 14,
   "id": "2da945e6-ecf6-4da1-9402-f555c4f09e83",
   "metadata": {
    "execution": {
     "iopub.execute_input": "2025-05-26T07:00:13.896827Z",
     "iopub.status.busy": "2025-05-26T07:00:13.896509Z",
     "iopub.status.idle": "2025-05-26T07:00:14.057155Z",
     "shell.execute_reply": "2025-05-26T07:00:14.056529Z",
     "shell.execute_reply.started": "2025-05-26T07:00:13.896803Z"
    },
    "language": "sql",
    "trusted": true
   },
   "outputs": [
    {
     "data": {
      "text/html": [
       "<span style=\"color: green\">1 rows affected.</span>"
      ],
      "text/plain": [
       "1 rows affected."
      ]
     },
     "metadata": {},
     "output_type": "display_data"
    },
    {
     "data": {
      "text/html": [
       "<table>\n",
       "    <thead>\n",
       "        <tr>\n",
       "        </tr>\n",
       "    </thead>\n",
       "    <tbody>\n",
       "    </tbody>\n",
       "</table>"
      ],
      "text/plain": [
       "++\n",
       "||\n",
       "++\n",
       "++"
      ]
     },
     "execution_count": 14,
     "metadata": {},
     "output_type": "execute_result"
    }
   ],
   "source": [
    "%%sql\n",
    "create or replace function norm1536(v vector(1536)) returns vector(1536) as \n",
    "begin\n",
    "    return normalize(v) :> vector(1536);\n",
    "end;"
   ]
  },
  {
   "cell_type": "code",
   "execution_count": 19,
   "id": "6242a708-bcb8-499c-9495-42304ea1b239",
   "metadata": {
    "execution": {
     "iopub.execute_input": "2025-05-26T07:01:27.776274Z",
     "iopub.status.busy": "2025-05-26T07:01:27.771687Z",
     "iopub.status.idle": "2025-05-26T07:01:27.946172Z",
     "shell.execute_reply": "2025-05-26T07:01:27.942130Z",
     "shell.execute_reply.started": "2025-05-26T07:01:27.776238Z"
    },
    "language": "sql",
    "trusted": true
   },
   "outputs": [
    {
     "data": {
      "text/html": [
       "<span style=\"color: green\">1 rows affected.</span>"
      ],
      "text/plain": [
       "1 rows affected."
      ]
     },
     "metadata": {},
     "output_type": "display_data"
    },
    {
     "data": {
      "text/html": [
       "<table>\n",
       "    <thead>\n",
       "        <tr>\n",
       "        </tr>\n",
       "    </thead>\n",
       "    <tbody>\n",
       "    </tbody>\n",
       "</table>"
      ],
      "text/plain": [
       "++\n",
       "||\n",
       "++\n",
       "++"
      ]
     },
     "execution_count": 19,
     "metadata": {},
     "output_type": "execute_result"
    }
   ],
   "source": [
    "%%sql\n",
    "create or replace function nrandv1536() returns vector(1536) as \n",
    "begin\n",
    "    return norm1536(gen_vector(1536));\n",
    "end;"
   ]
  },
  {
   "attachments": {},
   "cell_type": "markdown",
   "id": "a335ed65-5803-49b6-98a3-c0f61542693c",
   "metadata": {
    "language": "sql"
   },
   "source": [
    "## Populate the vecs table with 10 Million mock vectors"
   ]
  },
  {
   "cell_type": "code",
   "execution_count": 15,
   "id": "31230d71-5936-479a-90e9-7cb2b8f9af44",
   "metadata": {
    "execution": {
     "iopub.execute_input": "2025-05-26T07:00:17.336416Z",
     "iopub.status.busy": "2025-05-26T07:00:17.336005Z",
     "iopub.status.idle": "2025-05-26T07:00:17.509688Z",
     "shell.execute_reply": "2025-05-26T07:00:17.508482Z",
     "shell.execute_reply.started": "2025-05-26T07:00:17.336328Z"
    },
    "language": "sql",
    "trusted": true
   },
   "outputs": [
    {
     "data": {
      "text/html": [
       "<span style=\"color: green\">1 rows affected.</span>"
      ],
      "text/plain": [
       "1 rows affected."
      ]
     },
     "metadata": {},
     "output_type": "display_data"
    },
    {
     "data": {
      "text/html": [
       "<table>\n",
       "    <thead>\n",
       "        <tr>\n",
       "        </tr>\n",
       "    </thead>\n",
       "    <tbody>\n",
       "    </tbody>\n",
       "</table>"
      ],
      "text/plain": [
       "++\n",
       "||\n",
       "++\n",
       "++"
      ]
     },
     "execution_count": 15,
     "metadata": {},
     "output_type": "execute_result"
    }
   ],
   "source": [
    "%%sql\n",
    "create or replace procedure insert_vectors(num_rows bigint) as \n",
    "declare c int;\n",
    "begin\n",
    "    select count(*) into c from vecs;\n",
    "    loop\n",
    "        insert into vecs (id, v)\n",
    "        select id + (select max(id) from vecs), nrandv1536()\n",
    "        from vecs\n",
    "        where id <= 128 * 1024;\n",
    "        select count(*) into c from vecs;\n",
    "        if c >= num_rows then\n",
    "            exit;\n",
    "        end if;\n",
    "    end loop;\n",
    "end;"
   ]
  },
  {
   "attachments": {},
   "cell_type": "markdown",
   "id": "5ef2ef95-e7a6-4140-91d0-cd8c1962e7c2",
   "metadata": {
    "language": "sql"
   },
   "source": [
    "## Populate the Table"
   ]
  },
  {
   "cell_type": "code",
   "execution_count": 20,
   "id": "b2c3ab26-3e92-4cc1-b7ea-340c86460be5",
   "metadata": {
    "execution": {
     "iopub.execute_input": "2025-05-26T07:01:31.426808Z",
     "iopub.status.busy": "2025-05-26T07:01:31.426449Z",
     "iopub.status.idle": "2025-05-26T07:23:38.736483Z",
     "shell.execute_reply": "2025-05-26T07:23:38.735394Z",
     "shell.execute_reply.started": "2025-05-26T07:01:31.426774Z"
    },
    "language": "sql",
    "trusted": true
   },
   "outputs": [
    {
     "data": {
      "text/html": [
       "<span style=\"color: green\">1 rows affected.</span>"
      ],
      "text/plain": [
       "1 rows affected."
      ]
     },
     "metadata": {},
     "output_type": "display_data"
    },
    {
     "data": {
      "text/html": [
       "<table>\n",
       "    <thead>\n",
       "        <tr>\n",
       "        </tr>\n",
       "    </thead>\n",
       "    <tbody>\n",
       "    </tbody>\n",
       "</table>"
      ],
      "text/plain": [
       "++\n",
       "||\n",
       "++\n",
       "++"
      ]
     },
     "execution_count": 20,
     "metadata": {},
     "output_type": "execute_result"
    }
   ],
   "source": [
    "%%sql\n",
    "insert into vecs (id, v) values (1,nrandv1536());\n",
    "call insert_vectors(10000000);"
   ]
  },
  {
   "attachments": {},
   "cell_type": "markdown",
   "id": "0b4893b0-4e9e-4284-b7e1-05770d0572e1",
   "metadata": {
    "language": "sql"
   },
   "source": [
    "Importing Real Wikipedia Video Game data into Vecs table using Single Store Pipeline (enrich our mock vectors with actual content) "
   ]
  },
  {
   "attachments": {},
   "cell_type": "markdown",
   "id": "f6f666f0-0b04-49c6-a540-9af90234e78d",
   "metadata": {
    "language": "sql"
   },
   "source": [
    "In SingleStore (and MySQL-compatible dialects), identifiers such as table names and pipeline names should use backticks (`), not single quotes."
   ]
  },
  {
   "attachments": {},
   "cell_type": "markdown",
   "id": "b96e74b4-294e-41f0-86db-b5539d9304ee",
   "metadata": {
    "language": "sql"
   },
   "source": [
    "1) Create a pipeline\n",
    "2) import from S3 buckets to vecs table\n",
    "3) Data is CSV in that URL\n",
    "4) Hence the S3 bucket is public we left the aws_access_key_id & aws_secret_access_key empty\n",
    "5) format of csv file with delimiter, line termination characters, ensuring the data is parsed correctly"
   ]
  },
  {
   "cell_type": "code",
   "execution_count": 43,
   "id": "3385922f-3679-4512-80b0-4ebe0a86ee3b",
   "metadata": {
    "execution": {
     "iopub.execute_input": "2025-05-26T07:23:58.182097Z",
     "iopub.status.busy": "2025-05-26T07:23:58.181742Z",
     "iopub.status.idle": "2025-05-26T07:24:00.089906Z",
     "shell.execute_reply": "2025-05-26T07:24:00.089292Z",
     "shell.execute_reply.started": "2025-05-26T07:23:58.182063Z"
    },
    "language": "sql",
    "trusted": true
   },
   "outputs": [
    {
     "data": {
      "text/html": [
       "<table>\n",
       "    <thead>\n",
       "        <tr>\n",
       "        </tr>\n",
       "    </thead>\n",
       "    <tbody>\n",
       "    </tbody>\n",
       "</table>"
      ],
      "text/plain": [
       "++\n",
       "||\n",
       "++\n",
       "++"
      ]
     },
     "execution_count": 43,
     "metadata": {},
     "output_type": "execute_result"
    }
   ],
   "source": [
    "%%sql\n",
    "create or replace pipeline `wiki_pipeline` as \n",
    "load data S3 's3://wikipedia-video-game-data/video-game-embeddings(1).csv'\n",
    "config '{\"region\":\"us-west-1\"}'\n",
    "credentials '{\"aws_access_key_id\": \"\",\n",
    "            \"aws_secret_access_key\": \"\"}'\n",
    "skip duplicate key errors\n",
    "into table `vecs`\n",
    "format csv\n",
    "fields terminated by ','\n",
    "enclosed by '\"'\n",
    "lines terminated by '\\r\\n';\n"
   ]
  },
  {
   "attachments": {},
   "cell_type": "markdown",
   "id": "b6bf641e-5dc2-4a85-bf24-e5c11c976b40",
   "metadata": {
    "language": "sql"
   },
   "source": [
    "## Start the pipeline to import the data"
   ]
  },
  {
   "cell_type": "code",
   "execution_count": 44,
   "id": "1cf2bbbd-6c59-496a-8f0e-1877d3cdebf4",
   "metadata": {
    "execution": {
     "iopub.execute_input": "2025-05-26T07:24:05.622941Z",
     "iopub.status.busy": "2025-05-26T07:24:05.622190Z",
     "iopub.status.idle": "2025-05-26T07:24:05.778095Z",
     "shell.execute_reply": "2025-05-26T07:24:05.776915Z",
     "shell.execute_reply.started": "2025-05-26T07:24:05.622881Z"
    },
    "language": "sql",
    "trusted": true
   },
   "outputs": [
    {
     "data": {
      "text/html": [
       "<table>\n",
       "    <thead>\n",
       "        <tr>\n",
       "        </tr>\n",
       "    </thead>\n",
       "    <tbody>\n",
       "    </tbody>\n",
       "</table>"
      ],
      "text/plain": [
       "++\n",
       "||\n",
       "++\n",
       "++"
      ]
     },
     "execution_count": 44,
     "metadata": {},
     "output_type": "execute_result"
    }
   ],
   "source": [
    "%%sql\n",
    "start pipeline `wiki_pipeline`;"
   ]
  },
  {
   "attachments": {},
   "cell_type": "markdown",
   "id": "2e098cc7-7f76-4001-816c-4416266bca2b",
   "metadata": {
    "language": "sql"
   },
   "source": [
    "## Monitoring the pipeline to ensure the data is loaded "
   ]
  },
  {
   "cell_type": "code",
   "execution_count": 45,
   "id": "1f4b7a01-e7b1-4f16-bb50-5a0ec07a4cf8",
   "metadata": {
    "execution": {
     "iopub.execute_input": "2025-05-26T07:24:08.947678Z",
     "iopub.status.busy": "2025-05-26T07:24:08.947137Z",
     "iopub.status.idle": "2025-05-26T07:24:09.279449Z",
     "shell.execute_reply": "2025-05-26T07:24:09.278804Z",
     "shell.execute_reply.started": "2025-05-26T07:24:08.947584Z"
    },
    "language": "sql",
    "trusted": true
   },
   "outputs": [
    {
     "data": {
      "text/html": [
       "<span style=\"color: green\">1 rows affected.</span>"
      ],
      "text/plain": [
       "1 rows affected."
      ]
     },
     "metadata": {},
     "output_type": "display_data"
    },
    {
     "data": {
      "text/html": [
       "<table>\n",
       "    <thead>\n",
       "        <tr>\n",
       "            <th>DATABASE_NAME</th>\n",
       "            <th>PIPELINE_NAME</th>\n",
       "            <th>BATCH_ID</th>\n",
       "            <th>BATCH_STATE</th>\n",
       "            <th>START_TIME</th>\n",
       "            <th>ROWS_STREAMED</th>\n",
       "            <th>ROWS_PER_SEC</th>\n",
       "        </tr>\n",
       "    </thead>\n",
       "    <tbody>\n",
       "        <tr>\n",
       "            <td>video_game_wikipedia</td>\n",
       "            <td>wiki_pipeline</td>\n",
       "            <td>2</td>\n",
       "            <td>In Progress</td>\n",
       "            <td>2025-05-26 07:24:06.535523</td>\n",
       "            <td>466</td>\n",
       "            <td>177.65747562451747</td>\n",
       "        </tr>\n",
       "    </tbody>\n",
       "</table>"
      ],
      "text/plain": [
       "+----------------------+---------------+----------+-------------+----------------------------+---------------+--------------------+\n",
       "|    DATABASE_NAME     | PIPELINE_NAME | BATCH_ID | BATCH_STATE |         START_TIME         | ROWS_STREAMED |    ROWS_PER_SEC    |\n",
       "+----------------------+---------------+----------+-------------+----------------------------+---------------+--------------------+\n",
       "| video_game_wikipedia | wiki_pipeline |    2     | In Progress | 2025-05-26 07:24:06.535523 |      466      | 177.65747562451747 |\n",
       "+----------------------+---------------+----------+-------------+----------------------------+---------------+--------------------+"
      ]
     },
     "execution_count": 45,
     "metadata": {},
     "output_type": "execute_result"
    }
   ],
   "source": [
    "%%sql\n",
    "select DATABASE_NAME, PIPELINE_NAME, BATCH_ID, BATCH_STATE, START_TIME, ROWS_STREAMED, ROWS_PER_SEC\n",
    "from information_schema.PIPELINES_BATCHES_SUMMARY\n",
    "order by BATCH_ID;"
   ]
  },
  {
   "attachments": {},
   "cell_type": "markdown",
   "id": "cc4347e9-ed77-4017-8d19-f3993f2c6b11",
   "metadata": {
    "language": "sql"
   },
   "source": [
    "## Building Vector Indices"
   ]
  },
  {
   "attachments": {},
   "cell_type": "markdown",
   "id": "b283183e-d518-41be-994f-14a19d9620e0",
   "metadata": {
    "language": "sql"
   },
   "source": [
    "1) Single Store Offers options to create vector indices\n",
    "2) Each with various tunable parameters\n",
    "3) IVF - Inverted File Indices\n",
    "\n",
    "starting with automatic vector index, automatic index in V column, SingleStore chooses best indices based on the data  "
   ]
  },
  {
   "cell_type": "code",
   "execution_count": 6,
   "id": "a0efc75a-381b-456f-8571-ef4d1f2b9058",
   "metadata": {
    "execution": {
     "iopub.execute_input": "2025-05-26T07:37:35.517322Z",
     "iopub.status.busy": "2025-05-26T07:37:35.516844Z",
     "iopub.status.idle": "2025-05-26T07:38:22.235308Z",
     "shell.execute_reply": "2025-05-26T07:38:22.234573Z",
     "shell.execute_reply.started": "2025-05-26T07:37:35.517279Z"
    },
    "language": "sql",
    "trusted": true
   },
   "outputs": [
    {
     "data": {
      "text/html": [
       "<table>\n",
       "    <thead>\n",
       "        <tr>\n",
       "        </tr>\n",
       "    </thead>\n",
       "    <tbody>\n",
       "    </tbody>\n",
       "</table>"
      ],
      "text/plain": [
       "++\n",
       "||\n",
       "++\n",
       "++"
      ]
     },
     "execution_count": 6,
     "metadata": {},
     "output_type": "execute_result"
    }
   ],
   "source": [
    "%%sql\n",
    "\n",
    "alter table vecs add vector index auto (v) INDEX_OPTIONS '{\"index_type\":\"AUTO\"}';"
   ]
  },
  {
   "attachments": {},
   "cell_type": "markdown",
   "id": "b5f3b777-17db-4e68-838b-80b4e1c86b30",
   "metadata": {
    "language": "sql"
   },
   "source": [
    "## Create Index using IVF flat method "
   ]
  },
  {
   "attachments": {},
   "cell_type": "markdown",
   "id": "a0877286-4520-4c37-958a-64bb158a1b7d",
   "metadata": {
    "language": "sql"
   },
   "source": [
    "IVF Flat is commonly used index type that organizes vector into clusters allowing for efi=ficient searches by narrowing down the search space to specific clusters"
   ]
  },
  {
   "cell_type": "code",
   "execution_count": 26,
   "id": "dcedc941-583a-4d31-88f6-54a8b6403882",
   "metadata": {
    "execution": {
     "iopub.execute_input": "2025-05-26T15:51:48.906807Z",
     "iopub.status.busy": "2025-05-26T15:51:48.906521Z",
     "iopub.status.idle": "2025-05-26T15:54:06.732954Z",
     "shell.execute_reply": "2025-05-26T15:54:06.732245Z",
     "shell.execute_reply.started": "2025-05-26T15:51:48.906782Z"
    },
    "language": "sql",
    "trusted": true
   },
   "outputs": [
    {
     "data": {
      "text/html": [
       "<table>\n",
       "    <thead>\n",
       "        <tr>\n",
       "        </tr>\n",
       "    </thead>\n",
       "    <tbody>\n",
       "    </tbody>\n",
       "</table>"
      ],
      "text/plain": [
       "++\n",
       "||\n",
       "++\n",
       "++"
      ]
     },
     "execution_count": 26,
     "metadata": {},
     "output_type": "execute_result"
    }
   ],
   "source": [
    "%%sql\n",
    "\n",
    "alter table vecs add vector index ivf_flat (v) INDEX_OPTIONS '{\"index_type\":\"IVF_FLAT\"}';"
   ]
  },
  {
   "cell_type": "code",
   "execution_count": 8,
   "id": "b0b4703a-4cb6-40c3-90b9-8c1c81f609d1",
   "metadata": {
    "execution": {
     "iopub.execute_input": "2025-05-26T07:42:37.412892Z",
     "iopub.status.busy": "2025-05-26T07:42:37.411887Z",
     "iopub.status.idle": "2025-05-26T07:46:26.711619Z",
     "shell.execute_reply": "2025-05-26T07:46:26.710528Z",
     "shell.execute_reply.started": "2025-05-26T07:42:37.412848Z"
    },
    "language": "sql",
    "trusted": true
   },
   "outputs": [
    {
     "data": {
      "text/html": [
       "<table>\n",
       "    <thead>\n",
       "        <tr>\n",
       "        </tr>\n",
       "    </thead>\n",
       "    <tbody>\n",
       "    </tbody>\n",
       "</table>"
      ],
      "text/plain": [
       "++\n",
       "||\n",
       "++\n",
       "++"
      ]
     },
     "execution_count": 8,
     "metadata": {},
     "output_type": "execute_result"
    }
   ],
   "source": [
    "%%sql\n",
    "alter table vecs add vector index ivf_pq (v) INDEX_OPTIONS '{\"index_type\":\"IVF_PQ\"}'; "
   ]
  },
  {
   "attachments": {},
   "cell_type": "markdown",
   "id": "2265a479-eb35-40fe-af46-2b686a5beeea",
   "metadata": {
    "language": "sql"
   },
   "source": [
    "ivf-pq - inverted file with product qunatisation is advanced indexing method that further compresses the data, trading off some of the accuracy but we get much faster search time and reduced storage requirements"
   ]
  },
  {
   "cell_type": "code",
   "execution_count": 27,
   "id": "ce916c68-3240-4819-8be3-7d17890b1c48",
   "metadata": {
    "execution": {
     "iopub.execute_input": "2025-05-26T15:54:30.981886Z",
     "iopub.status.busy": "2025-05-26T15:54:30.981508Z",
     "iopub.status.idle": "2025-05-26T15:54:31.127014Z",
     "shell.execute_reply": "2025-05-26T15:54:31.126461Z",
     "shell.execute_reply.started": "2025-05-26T15:54:30.981847Z"
    },
    "language": "sql",
    "trusted": true
   },
   "outputs": [
    {
     "data": {
      "text/html": [
       "<span style=\"color: green\">6 rows affected.</span>"
      ],
      "text/plain": [
       "6 rows affected."
      ]
     },
     "metadata": {},
     "output_type": "display_data"
    },
    {
     "data": {
      "text/html": [
       "<table>\n",
       "    <thead>\n",
       "        <tr>\n",
       "            <th>Table</th>\n",
       "            <th>Non_unique</th>\n",
       "            <th>Key_name</th>\n",
       "            <th>Seq_in_index</th>\n",
       "            <th>Column_name</th>\n",
       "            <th>Collation</th>\n",
       "            <th>Cardinality</th>\n",
       "            <th>Sub_part</th>\n",
       "            <th>Packed</th>\n",
       "            <th>Null</th>\n",
       "            <th>Index_type</th>\n",
       "            <th>Comment</th>\n",
       "            <th>Index_comment</th>\n",
       "            <th>Index_options</th>\n",
       "        </tr>\n",
       "    </thead>\n",
       "    <tbody>\n",
       "        <tr>\n",
       "            <td>vecs</td>\n",
       "            <td>1</td>\n",
       "            <td>__SHARDKEY</td>\n",
       "            <td>1</td>\n",
       "            <td>id</td>\n",
       "            <td>None</td>\n",
       "            <td>None</td>\n",
       "            <td>None</td>\n",
       "            <td>None</td>\n",
       "            <td>YES</td>\n",
       "            <td>METADATA_ONLY</td>\n",
       "            <td></td>\n",
       "            <td></td>\n",
       "            <td></td>\n",
       "        </tr>\n",
       "        <tr>\n",
       "            <td>vecs</td>\n",
       "            <td>1</td>\n",
       "            <td>id</td>\n",
       "            <td>1</td>\n",
       "            <td>id</td>\n",
       "            <td>None</td>\n",
       "            <td>None</td>\n",
       "            <td>None</td>\n",
       "            <td>None</td>\n",
       "            <td>YES</td>\n",
       "            <td>COLUMNSTORE HASH</td>\n",
       "            <td></td>\n",
       "            <td></td>\n",
       "            <td></td>\n",
       "        </tr>\n",
       "        <tr>\n",
       "            <td>vecs</td>\n",
       "            <td>1</td>\n",
       "            <td>paragraph</td>\n",
       "            <td>1</td>\n",
       "            <td>paragraph</td>\n",
       "            <td>utf8mb4_general_ci</td>\n",
       "            <td>None</td>\n",
       "            <td>None</td>\n",
       "            <td>None</td>\n",
       "            <td>YES</td>\n",
       "            <td>FULLTEXT</td>\n",
       "            <td></td>\n",
       "            <td></td>\n",
       "            <td></td>\n",
       "        </tr>\n",
       "        <tr>\n",
       "            <td>vecs</td>\n",
       "            <td>1</td>\n",
       "            <td>auto</td>\n",
       "            <td>1</td>\n",
       "            <td>v</td>\n",
       "            <td>None</td>\n",
       "            <td>None</td>\n",
       "            <td>None</td>\n",
       "            <td>None</td>\n",
       "            <td></td>\n",
       "            <td>VECTOR</td>\n",
       "            <td></td>\n",
       "            <td></td>\n",
       "            <td>{\"index_type\":\"AUTO\"}</td>\n",
       "        </tr>\n",
       "        <tr>\n",
       "            <td>vecs</td>\n",
       "            <td>1</td>\n",
       "            <td>ivf_pq</td>\n",
       "            <td>1</td>\n",
       "            <td>v</td>\n",
       "            <td>None</td>\n",
       "            <td>None</td>\n",
       "            <td>None</td>\n",
       "            <td>None</td>\n",
       "            <td></td>\n",
       "            <td>VECTOR</td>\n",
       "            <td></td>\n",
       "            <td></td>\n",
       "            <td>{\"index_type\":\"IVF_PQ\"}</td>\n",
       "        </tr>\n",
       "        <tr>\n",
       "            <td>vecs</td>\n",
       "            <td>1</td>\n",
       "            <td>ivf_flat</td>\n",
       "            <td>1</td>\n",
       "            <td>v</td>\n",
       "            <td>None</td>\n",
       "            <td>None</td>\n",
       "            <td>None</td>\n",
       "            <td>None</td>\n",
       "            <td></td>\n",
       "            <td>VECTOR</td>\n",
       "            <td></td>\n",
       "            <td></td>\n",
       "            <td>{\"index_type\":\"IVF_FLAT\"}</td>\n",
       "        </tr>\n",
       "    </tbody>\n",
       "</table>"
      ],
      "text/plain": [
       "+-------+------------+------------+--------------+-------------+--------------------+-------------+----------+--------+------+------------------+---------+---------------+---------------------------+\n",
       "| Table | Non_unique |  Key_name  | Seq_in_index | Column_name |     Collation      | Cardinality | Sub_part | Packed | Null |    Index_type    | Comment | Index_comment |       Index_options       |\n",
       "+-------+------------+------------+--------------+-------------+--------------------+-------------+----------+--------+------+------------------+---------+---------------+---------------------------+\n",
       "|  vecs |     1      | __SHARDKEY |      1       |      id     |        None        |     None    |   None   |  None  | YES  |  METADATA_ONLY   |         |               |                           |\n",
       "|  vecs |     1      |     id     |      1       |      id     |        None        |     None    |   None   |  None  | YES  | COLUMNSTORE HASH |         |               |                           |\n",
       "|  vecs |     1      | paragraph  |      1       |  paragraph  | utf8mb4_general_ci |     None    |   None   |  None  | YES  |     FULLTEXT     |         |               |                           |\n",
       "|  vecs |     1      |    auto    |      1       |      v      |        None        |     None    |   None   |  None  |      |      VECTOR      |         |               |   {\"index_type\":\"AUTO\"}   |\n",
       "|  vecs |     1      |   ivf_pq   |      1       |      v      |        None        |     None    |   None   |  None  |      |      VECTOR      |         |               |  {\"index_type\":\"IVF_PQ\"}  |\n",
       "|  vecs |     1      |  ivf_flat  |      1       |      v      |        None        |     None    |   None   |  None  |      |      VECTOR      |         |               | {\"index_type\":\"IVF_FLAT\"} |\n",
       "+-------+------------+------------+--------------+-------------+--------------------+-------------+----------+--------+------+------------------+---------+---------------+---------------------------+"
      ]
     },
     "execution_count": 27,
     "metadata": {},
     "output_type": "execute_result"
    }
   ],
   "source": [
    "%%sql\n",
    "show INDEXES from vecs;"
   ]
  },
  {
   "attachments": {},
   "cell_type": "markdown",
   "id": "1f4a9897-b95c-46d7-9294-d188dc54c458",
   "metadata": {
    "language": "sql"
   },
   "source": [
    "## Testing Indices "
   ]
  },
  {
   "attachments": {},
   "cell_type": "markdown",
   "id": "f2780774-d390-499d-b1f1-c8d3bf0f4896",
   "metadata": {
    "execution": {
     "iopub.execute_input": "2025-05-26T07:51:07.288222Z",
     "iopub.status.busy": "2025-05-26T07:51:07.287341Z",
     "iopub.status.idle": "2025-05-26T07:51:08.492004Z",
     "shell.execute_reply": "2025-05-26T07:51:08.490515Z",
     "shell.execute_reply.started": "2025-05-26T07:51:07.288159Z"
    },
    "language": "sql"
   },
   "source": [
    "ANN - Approximate Nearest Neighbours\n",
    "KNN - K Nearest Neighbours - Average of K Closest points\n",
    "\n",
    "Testing a vector corresponding to the paragraph Nintendo's Rad Racer video game and testing how we are retrieving similiar paragraphs using different indexing methods   "
   ]
  },
  {
   "cell_type": "code",
   "execution_count": 19,
   "id": "7f8c5ac0-b133-4ece-b98c-612c5c60ea2a",
   "metadata": {
    "execution": {
     "iopub.execute_input": "2025-05-26T15:43:01.024461Z",
     "iopub.status.busy": "2025-05-26T15:43:01.024057Z",
     "iopub.status.idle": "2025-05-26T15:43:35.856524Z",
     "shell.execute_reply": "2025-05-26T15:43:35.855588Z",
     "shell.execute_reply.started": "2025-05-26T15:43:01.024424Z"
    },
    "language": "sql",
    "trusted": true
   },
   "outputs": [
    {
     "data": {
      "text/html": [
       "<span style=\"color: green\">5 rows affected.</span>"
      ],
      "text/plain": [
       "5 rows affected."
      ]
     },
     "metadata": {},
     "output_type": "display_data"
    },
    {
     "data": {
      "text/html": [
       "<table>\n",
       "    <thead>\n",
       "        <tr>\n",
       "            <th>paragraph</th>\n",
       "            <th>sim</th>\n",
       "        </tr>\n",
       "    </thead>\n",
       "    <tbody>\n",
       "        <tr>\n",
       "            <td>Rad Racer was ranked number 57 on IGN's Top 100 Nintendo Entertainment System games and was called \"iconic\" and one of the NES's premier racing games. Maxim included the game amongst thirteen others in their greatest 8-bit video games of all time list.</td>\n",
       "            <td>1.0000001192092896</td>\n",
       "        </tr>\n",
       "        <tr>\n",
       "            <td>Rad Racer was met with favorable reviews, enjoyed commercial success, and sold 1.96 million copies. It also ranked 8th on Nintendo Power's player's poll Top 30. Famitsu praised the sense of speed but felt the game was slightly monotonous. Japanese publication Family Computer Magazine applauded the variety of game landscapes found in different levels. British magazine Computer and Video Games called it an \"extremely playable racing game\" and said \"things get very fast and competitive as you get further into the game.\"</td>\n",
       "            <td>0.9292747974395752</td>\n",
       "        </tr>\n",
       "        <tr>\n",
       "            <td>The game sold 1.96 million copies and is considered one of the best racing games on the NES, but was criticized as being derivative of other racing games from the period. Reviewers widely compared the game to Out Run, though opined that Rad Racer was different in some ways, and they praised the sense of speed. The game appeared in the 1989 film The Wizard and was one of three games to feature a unique competition course in the 1990 Nintendo World Championship.</td>\n",
       "            <td>0.9212067723274231</td>\n",
       "        </tr>\n",
       "        <tr>\n",
       "            <td>Rad Racer was released in Japan on August 7, 1987. It was later released in North America in October 1987 and in Europe on January 15, 1988. In August 1987, Nintendo released an arcade machine called Playchoice-10 that contained up to ten popular NES titles. Amongst the eligible NES games, Rad Racer was also available on the arcade machine.</td>\n",
       "            <td>0.8954247236251831</td>\n",
       "        </tr>\n",
       "        <tr>\n",
       "            <td>Due to most of Rad Racer's sales being from the United States, Rad Racer II was developed and released only in North America for the NES and the arcade. The sequel featured eight new tracks and new music but similar gameplay. Hardcore Gamer 101 said that steering was looser than the first game and rival cars more aggressive, leading to a less enjoyable playing experience. Despite the efforts of Square to make unique games with 3D features such as Rad Racer and 3-D Worldrunner, and high sales, the company was in financial trouble. These events are what led to a final attempt at a breakout hit, Final Fantasy. Rad Racer appeared in a scene in the movie The Wizard. It was also one of three games, including Super Mario Bros. and Tetris, featured at the 1990 Nintendo World Championship with an exclusive racing level to complete as one of the rounds of competition. The limited-edition release of the game's cartridge used in the tournament is now the rarest and most valuable Nintendo games available.</td>\n",
       "            <td>0.8908036351203918</td>\n",
       "        </tr>\n",
       "    </tbody>\n",
       "</table>"
      ],
      "text/plain": [
       "+-------------------------------------------------------------------------------------------------------------------------------------------------------------------------------------------------------------------------------------------------------------------------------------------------------------------------------------------------------------------------------------------------------------------------------------------------------------------------------------------------------------------------------------------------------------------------------------------------------------------------------------------------------------------------------------------------------------------------------------------------------------------------------------------------------------------------------------------------------------------------------------------------------------------------------------------------------------------------------------------------------------------------------------------------+--------------------+\n",
       "|                                                                                                                                                                                                                                                                                                                                                                                                                                                                                                                    paragraph                                                                                                                                                                                                                                                                                                                                                                                                                                                                                                                    |        sim         |\n",
       "+-------------------------------------------------------------------------------------------------------------------------------------------------------------------------------------------------------------------------------------------------------------------------------------------------------------------------------------------------------------------------------------------------------------------------------------------------------------------------------------------------------------------------------------------------------------------------------------------------------------------------------------------------------------------------------------------------------------------------------------------------------------------------------------------------------------------------------------------------------------------------------------------------------------------------------------------------------------------------------------------------------------------------------------------------+--------------------+\n",
       "|                                                                                                                                                                                                                                                                                                                                                                                           Rad Racer was ranked number 57 on IGN's Top 100 Nintendo Entertainment System games and was called \"iconic\" and one of the NES's premier racing games. Maxim included the game amongst thirteen others in their greatest 8-bit video games of all time list.                                                                                                                                                                                                                                                                                                                                                                                          | 1.0000001192092896 |\n",
       "|                                                                                                                                                                                                                                                    Rad Racer was met with favorable reviews, enjoyed commercial success, and sold 1.96 million copies. It also ranked 8th on Nintendo Power's player's poll Top 30. Famitsu praised the sense of speed but felt the game was slightly monotonous. Japanese publication Family Computer Magazine applauded the variety of game landscapes found in different levels. British magazine Computer and Video Games called it an \"extremely playable racing game\" and said \"things get very fast and competitive as you get further into the game.\"                                                                                                                                                                                                                                                   | 0.9292747974395752 |\n",
       "|                                                                                                                                                                                                                                                                                 The game sold 1.96 million copies and is considered one of the best racing games on the NES, but was criticized as being derivative of other racing games from the period. Reviewers widely compared the game to Out Run, though opined that Rad Racer was different in some ways, and they praised the sense of speed. The game appeared in the 1989 film The Wizard and was one of three games to feature a unique competition course in the 1990 Nintendo World Championship.                                                                                                                                                                                                                                                                                | 0.9212067723274231 |\n",
       "|                                                                                                                                                                                                                                                                                                                                              Rad Racer was released in Japan on August 7, 1987. It was later released in North America in October 1987 and in Europe on January 15, 1988. In August 1987, Nintendo released an arcade machine called Playchoice-10 that contained up to ten popular NES titles. Amongst the eligible NES games, Rad Racer was also available on the arcade machine.                                                                                                                                                                                                                                                                                                                                             | 0.8954247236251831 |\n",
       "| Due to most of Rad Racer's sales being from the United States, Rad Racer II was developed and released only in North America for the NES and the arcade. The sequel featured eight new tracks and new music but similar gameplay. Hardcore Gamer 101 said that steering was looser than the first game and rival cars more aggressive, leading to a less enjoyable playing experience. Despite the efforts of Square to make unique games with 3D features such as Rad Racer and 3-D Worldrunner, and high sales, the company was in financial trouble. These events are what led to a final attempt at a breakout hit, Final Fantasy. Rad Racer appeared in a scene in the movie The Wizard. It was also one of three games, including Super Mario Bros. and Tetris, featured at the 1990 Nintendo World Championship with an exclusive racing level to complete as one of the rounds of competition. The limited-edition release of the game's cartridge used in the tournament is now the rarest and most valuable Nintendo games available. | 0.8908036351203918 |\n",
       "+-------------------------------------------------------------------------------------------------------------------------------------------------------------------------------------------------------------------------------------------------------------------------------------------------------------------------------------------------------------------------------------------------------------------------------------------------------------------------------------------------------------------------------------------------------------------------------------------------------------------------------------------------------------------------------------------------------------------------------------------------------------------------------------------------------------------------------------------------------------------------------------------------------------------------------------------------------------------------------------------------------------------------------------------------+--------------------+"
      ]
     },
     "execution_count": 19,
     "metadata": {},
     "output_type": "execute_result"
    }
   ],
   "source": [
    "%%sql\n",
    "set @qv = (select v from vecs where id = 1125899906845489);\n",
    "\n",
    "select paragraph, v <*> @qv as sim\n",
    "from vecs\n",
    "order by sim use index () desc\n",
    "limit 5;"
   ]
  },
  {
   "attachments": {},
   "cell_type": "markdown",
   "id": "cd9d6143-4b08-4e94-bab4-34367885dd03",
   "metadata": {
    "language": "sql"
   },
   "source": [
    "Searchs through all the vectors without any index (Brute Force Search)"
   ]
  },
  {
   "attachments": {},
   "cell_type": "markdown",
   "id": "9e99082c-94a5-48fa-909a-03f51d567ef9",
   "metadata": {
    "language": "sql"
   },
   "source": [
    "### Testing Performance using Auto Index\n",
    "Single Store will optimize the Search, gives significant Speed Up when compared to KNN Search"
   ]
  },
  {
   "cell_type": "code",
   "execution_count": 21,
   "id": "4f8a1057-349f-4767-86e0-428f385ee5da",
   "metadata": {
    "execution": {
     "iopub.execute_input": "2025-05-26T15:44:44.314646Z",
     "iopub.status.busy": "2025-05-26T15:44:44.314366Z",
     "iopub.status.idle": "2025-05-26T15:44:54.681623Z",
     "shell.execute_reply": "2025-05-26T15:44:54.681010Z",
     "shell.execute_reply.started": "2025-05-26T15:44:44.314612Z"
    },
    "language": "sql",
    "trusted": true
   },
   "outputs": [
    {
     "data": {
      "text/html": [
       "<span style=\"color: green\">5 rows affected.</span>"
      ],
      "text/plain": [
       "5 rows affected."
      ]
     },
     "metadata": {},
     "output_type": "display_data"
    },
    {
     "data": {
      "text/html": [
       "<table>\n",
       "    <thead>\n",
       "        <tr>\n",
       "            <th>paragraph</th>\n",
       "            <th>sim</th>\n",
       "        </tr>\n",
       "    </thead>\n",
       "    <tbody>\n",
       "        <tr>\n",
       "            <td>The game sold 1.96 million copies and is considered one of the best racing games on the NES, but was criticized as being derivative of other racing games from the period. Reviewers widely compared the game to Out Run, though opined that Rad Racer was different in some ways, and they praised the sense of speed. The game appeared in the 1989 film The Wizard and was one of three games to feature a unique competition course in the 1990 Nintendo World Championship.</td>\n",
       "            <td>0.9212067723274231</td>\n",
       "        </tr>\n",
       "        <tr>\n",
       "            <td>Moto Racer Advance was first displayed at the 2002 Electronic Entertainment Expo . IGN gave the game two awards for portable games after its E3 2002 coverage: \"Best Graphics\" and \"Best Racing Game\". IGN praised the early version of the game for its high draw distance and smooth frame rate. The game was built from the ground up to be a racing game for the Game Boy Advance and to take advantage of the hardware offered by the system. IGN previewed the game six months before it was made available for retail and called the graphics the game's highlight, while noting that tune-ups in the physics engine were needed before release. The game manipulated 2D sprites and backgrounds to give the impression of 3D to the player. By keeping the core graphics engine simple, the game was able to contain elongated draw distances and a smooth frame rate.</td>\n",
       "            <td>0.8628146648406982</td>\n",
       "        </tr>\n",
       "        <tr>\n",
       "            <td>In 1997, Electronic Gaming Monthly ranked it the 56th best console video game of all time. They explained their decision to include it on the list instead of Punch-Out!!: \"The NES version is great, but the Super NES one is even better, with large, well-animated characters, great control and a near-perfect learning curve.\" In 2018, Complex rated the game number 18 on their \"The Best Super Nintendo Games of All Time.\" 1995, Total! placed the game 27th in their Top 100 SNES Games.</td>\n",
       "            <td>0.8584308624267578</td>\n",
       "        </tr>\n",
       "        <tr>\n",
       "            <td>Overall assessments of the game were mostly positive. GamePro gave it a 4.5 out of 5 for sound and a perfect 5.0 in control, graphics, and fun factor, calling it \"a feverishly fun Nintendo 64 racer that combines elements of Mario Kart 64, Wave Race 64, and Pilotwings 64 into one spectacular game.\" EGM named it \"Game of the Month\", with its four reviewers lauding the challenging gameplay and numerous objectives to tackle. Gerstmann instead counted the latter as the game's greatest weakness, arguing that having to repeatedly play through the same courses with slightly different objectives makes the game excessively repetitive. He concluded that the game is far better than Mario Kart 64, but the repetitiveness \"ultimately kills it.\" Next Generation fell more in line with the majority, remarking that the combination of racing and adventure elements works well, and that \"Diddy Kong Racing shows Rare's pure craftmanship, displaying keen subtleties that eventually win players over.\"</td>\n",
       "            <td>0.8548850417137146</td>\n",
       "        </tr>\n",
       "        <tr>\n",
       "            <td>Similar compliments were made of the other versions. A reviewer from Consoles + praised the SNES version's simultaneous four-player function and the addition of game modes and tracks. Joypad 's reviewer praised the multiplayer, saying it is \"simply excellent\", and gave the vehicles' manoeuvrability a similar description. Power Play's reviewer praised the MS-DOS version's variety. Vince Broady of GameSpot praised the \"excellent\" gameplay, but complained that the CD soundtrack is repetitive, and that the graphics were not as good as competitors. Coming Soon Magazine's reviewer complimented its \"terrific\" gameplay and praised the track editor, saying it was \"a tremendous idea\" and that it increases playability. Steve Bauman of Computer Games Strategy Plus had mixed feelings: he believed the game is \"shallow as hell\", but also described it as \"surprisingly entertaining\". PC Zone's Charlie Brooker liked the graphics and sound, describing them as \"cute\" and \"neat\" respectively, and praised the game's \"timeless console-style action\". The game was named a PC Zone classic. A reviewer for Next Generation remarked that \"if you're just interested in simple, arcade-style racing that even runs fine on a 386, well, you've hit the mother lode\". He felt the game seemed designed more for consoles, since it is plainly focused on the multiplayer mode but lacks support for networked play, thus requiring the players to crowd around a single PC, but was pleased with the cuteness of the cars and the inventiveness of the tracks.</td>\n",
       "            <td>0.8515068888664246</td>\n",
       "        </tr>\n",
       "    </tbody>\n",
       "</table>"
      ],
      "text/plain": [
       "+-------------------------------------------------------------------------------------------------------------------------------------------------------------------------------------------------------------------------------------------------------------------------------------------------------------------------------------------------------------------------------------------------------------------------------------------------------------------------------------------------------------------------------------------------------------------------------------------------------------------------------------------------------------------------------------------------------------------------------------------------------------------------------------------------------------------------------------------------------------------------------------------------------------------------------------------------------------------------------------------------------------------------------------------------------------------------------------------------------------------------------------------------------------------------------------------------------------------------------------------------------------------------------------------------------------------------------------------------------------------------------------------------------------------------------------------------------------------------------------------------------------------------------------------------------------------------------------------+--------------------+\n",
       "|                                                                                                                                                                                                                                                                                                                                                                                                                                                                                                                                                                                                                                                                                                                                                                                         paragraph                                                                                                                                                                                                                                                                                                                                                                                                                                                                                                                                                                                                                                                                                                                                                                                         |        sim         |\n",
       "+-------------------------------------------------------------------------------------------------------------------------------------------------------------------------------------------------------------------------------------------------------------------------------------------------------------------------------------------------------------------------------------------------------------------------------------------------------------------------------------------------------------------------------------------------------------------------------------------------------------------------------------------------------------------------------------------------------------------------------------------------------------------------------------------------------------------------------------------------------------------------------------------------------------------------------------------------------------------------------------------------------------------------------------------------------------------------------------------------------------------------------------------------------------------------------------------------------------------------------------------------------------------------------------------------------------------------------------------------------------------------------------------------------------------------------------------------------------------------------------------------------------------------------------------------------------------------------------------+--------------------+\n",
       "|                                                                                                                                                                                                                                                                                                                                                                                                                                                                                                                                                      The game sold 1.96 million copies and is considered one of the best racing games on the NES, but was criticized as being derivative of other racing games from the period. Reviewers widely compared the game to Out Run, though opined that Rad Racer was different in some ways, and they praised the sense of speed. The game appeared in the 1989 film The Wizard and was one of three games to feature a unique competition course in the 1990 Nintendo World Championship.                                                                                                                                                                                                                                                                                                                                                                                                                                                                                                                                                     | 0.9212067723274231 |\n",
       "|                                                                                                                                                                                                                                                                                                                                                       Moto Racer Advance was first displayed at the 2002 Electronic Entertainment Expo . IGN gave the game two awards for portable games after its E3 2002 coverage: \"Best Graphics\" and \"Best Racing Game\". IGN praised the early version of the game for its high draw distance and smooth frame rate. The game was built from the ground up to be a racing game for the Game Boy Advance and to take advantage of the hardware offered by the system. IGN previewed the game six months before it was made available for retail and called the graphics the game's highlight, while noting that tune-ups in the physics engine were needed before release. The game manipulated 2D sprites and backgrounds to give the impression of 3D to the player. By keeping the core graphics engine simple, the game was able to contain elongated draw distances and a smooth frame rate.                                                                                                                                                                                                                                                                                                                                                      | 0.8628146648406982 |\n",
       "|                                                                                                                                                                                                                                                                                                                                                                                                                                                                                                                                             In 1997, Electronic Gaming Monthly ranked it the 56th best console video game of all time. They explained their decision to include it on the list instead of Punch-Out!!: \"The NES version is great, but the Super NES one is even better, with large, well-animated characters, great control and a near-perfect learning curve.\" In 2018, Complex rated the game number 18 on their \"The Best Super Nintendo Games of All Time.\" 1995, Total! placed the game 27th in their Top 100 SNES Games.                                                                                                                                                                                                                                                                                                                                                                                                                                                                                                                                            | 0.8584308624267578 |\n",
       "|                                                                                                                                                                                                                                                                               Overall assessments of the game were mostly positive. GamePro gave it a 4.5 out of 5 for sound and a perfect 5.0 in control, graphics, and fun factor, calling it \"a feverishly fun Nintendo 64 racer that combines elements of Mario Kart 64, Wave Race 64, and Pilotwings 64 into one spectacular game.\" EGM named it \"Game of the Month\", with its four reviewers lauding the challenging gameplay and numerous objectives to tackle. Gerstmann instead counted the latter as the game's greatest weakness, arguing that having to repeatedly play through the same courses with slightly different objectives makes the game excessively repetitive. He concluded that the game is far better than Mario Kart 64, but the repetitiveness \"ultimately kills it.\" Next Generation fell more in line with the majority, remarking that the combination of racing and adventure elements works well, and that \"Diddy Kong Racing shows Rare's pure craftmanship, displaying keen subtleties that eventually win players over.\"                                                                                                                                                                                                                                                                              | 0.8548850417137146 |\n",
       "| Similar compliments were made of the other versions. A reviewer from Consoles + praised the SNES version's simultaneous four-player function and the addition of game modes and tracks. Joypad 's reviewer praised the multiplayer, saying it is \"simply excellent\", and gave the vehicles' manoeuvrability a similar description. Power Play's reviewer praised the MS-DOS version's variety. Vince Broady of GameSpot praised the \"excellent\" gameplay, but complained that the CD soundtrack is repetitive, and that the graphics were not as good as competitors. Coming Soon Magazine's reviewer complimented its \"terrific\" gameplay and praised the track editor, saying it was \"a tremendous idea\" and that it increases playability. Steve Bauman of Computer Games Strategy Plus had mixed feelings: he believed the game is \"shallow as hell\", but also described it as \"surprisingly entertaining\". PC Zone's Charlie Brooker liked the graphics and sound, describing them as \"cute\" and \"neat\" respectively, and praised the game's \"timeless console-style action\". The game was named a PC Zone classic. A reviewer for Next Generation remarked that \"if you're just interested in simple, arcade-style racing that even runs fine on a 386, well, you've hit the mother lode\". He felt the game seemed designed more for consoles, since it is plainly focused on the multiplayer mode but lacks support for networked play, thus requiring the players to crowd around a single PC, but was pleased with the cuteness of the cars and the inventiveness of the tracks. | 0.8515068888664246 |\n",
       "+-------------------------------------------------------------------------------------------------------------------------------------------------------------------------------------------------------------------------------------------------------------------------------------------------------------------------------------------------------------------------------------------------------------------------------------------------------------------------------------------------------------------------------------------------------------------------------------------------------------------------------------------------------------------------------------------------------------------------------------------------------------------------------------------------------------------------------------------------------------------------------------------------------------------------------------------------------------------------------------------------------------------------------------------------------------------------------------------------------------------------------------------------------------------------------------------------------------------------------------------------------------------------------------------------------------------------------------------------------------------------------------------------------------------------------------------------------------------------------------------------------------------------------------------------------------------------------------------+--------------------+"
      ]
     },
     "execution_count": 21,
     "metadata": {},
     "output_type": "execute_result"
    }
   ],
   "source": [
    "%%sql\n",
    "set @qv = (select v from vecs where id = 1125899906845489);\n",
    "\n",
    "select paragraph, v <*> @qv as sim\n",
    "from vecs\n",
    "order by sim use index (auto) desc\n",
    "limit 5;"
   ]
  },
  {
   "attachments": {},
   "cell_type": "markdown",
   "id": "a8d5e3e7-dfe2-4057-b2d4-7a08f71d04cc",
   "metadata": {
    "language": "sql"
   },
   "source": [
    "### Testing Performance using IVF FLAT\n",
    "IVF FLAT Index further enhances the performance by clustering the vectors and searching within the most relevant clusters offering faster results than the exact search."
   ]
  },
  {
   "cell_type": "code",
   "execution_count": 29,
   "id": "89dffe66-8a7c-4f21-8b5c-74a898413c36",
   "metadata": {
    "execution": {
     "iopub.execute_input": "2025-05-26T15:55:59.638837Z",
     "iopub.status.busy": "2025-05-26T15:55:59.638446Z",
     "iopub.status.idle": "2025-05-26T15:57:58.468182Z",
     "shell.execute_reply": "2025-05-26T15:57:58.467512Z",
     "shell.execute_reply.started": "2025-05-26T15:55:59.638805Z"
    },
    "language": "sql",
    "trusted": true
   },
   "outputs": [
    {
     "data": {
      "text/html": [
       "<span style=\"color: green\">5 rows affected.</span>"
      ],
      "text/plain": [
       "5 rows affected."
      ]
     },
     "metadata": {},
     "output_type": "display_data"
    },
    {
     "data": {
      "text/html": [
       "<table>\n",
       "    <thead>\n",
       "        <tr>\n",
       "            <th>paragraph</th>\n",
       "            <th>sim</th>\n",
       "        </tr>\n",
       "    </thead>\n",
       "    <tbody>\n",
       "        <tr>\n",
       "            <td>Rad Racer was ranked number 57 on IGN's Top 100 Nintendo Entertainment System games and was called \"iconic\" and one of the NES's premier racing games. Maxim included the game amongst thirteen others in their greatest 8-bit video games of all time list.</td>\n",
       "            <td>1.0000001192092896</td>\n",
       "        </tr>\n",
       "        <tr>\n",
       "            <td>Rad Racer was met with favorable reviews, enjoyed commercial success, and sold 1.96 million copies. It also ranked 8th on Nintendo Power's player's poll Top 30. Famitsu praised the sense of speed but felt the game was slightly monotonous. Japanese publication Family Computer Magazine applauded the variety of game landscapes found in different levels. British magazine Computer and Video Games called it an \"extremely playable racing game\" and said \"things get very fast and competitive as you get further into the game.\"</td>\n",
       "            <td>0.9292747974395752</td>\n",
       "        </tr>\n",
       "        <tr>\n",
       "            <td>The game sold 1.96 million copies and is considered one of the best racing games on the NES, but was criticized as being derivative of other racing games from the period. Reviewers widely compared the game to Out Run, though opined that Rad Racer was different in some ways, and they praised the sense of speed. The game appeared in the 1989 film The Wizard and was one of three games to feature a unique competition course in the 1990 Nintendo World Championship.</td>\n",
       "            <td>0.9212067723274231</td>\n",
       "        </tr>\n",
       "        <tr>\n",
       "            <td>Rad Racer was released in Japan on August 7, 1987. It was later released in North America in October 1987 and in Europe on January 15, 1988. In August 1987, Nintendo released an arcade machine called Playchoice-10 that contained up to ten popular NES titles. Amongst the eligible NES games, Rad Racer was also available on the arcade machine.</td>\n",
       "            <td>0.8954247236251831</td>\n",
       "        </tr>\n",
       "        <tr>\n",
       "            <td>Due to most of Rad Racer's sales being from the United States, Rad Racer II was developed and released only in North America for the NES and the arcade. The sequel featured eight new tracks and new music but similar gameplay. Hardcore Gamer 101 said that steering was looser than the first game and rival cars more aggressive, leading to a less enjoyable playing experience. Despite the efforts of Square to make unique games with 3D features such as Rad Racer and 3-D Worldrunner, and high sales, the company was in financial trouble. These events are what led to a final attempt at a breakout hit, Final Fantasy. Rad Racer appeared in a scene in the movie The Wizard. It was also one of three games, including Super Mario Bros. and Tetris, featured at the 1990 Nintendo World Championship with an exclusive racing level to complete as one of the rounds of competition. The limited-edition release of the game's cartridge used in the tournament is now the rarest and most valuable Nintendo games available.</td>\n",
       "            <td>0.8908036351203918</td>\n",
       "        </tr>\n",
       "    </tbody>\n",
       "</table>"
      ],
      "text/plain": [
       "+-------------------------------------------------------------------------------------------------------------------------------------------------------------------------------------------------------------------------------------------------------------------------------------------------------------------------------------------------------------------------------------------------------------------------------------------------------------------------------------------------------------------------------------------------------------------------------------------------------------------------------------------------------------------------------------------------------------------------------------------------------------------------------------------------------------------------------------------------------------------------------------------------------------------------------------------------------------------------------------------------------------------------------------------------+--------------------+\n",
       "|                                                                                                                                                                                                                                                                                                                                                                                                                                                                                                                    paragraph                                                                                                                                                                                                                                                                                                                                                                                                                                                                                                                    |        sim         |\n",
       "+-------------------------------------------------------------------------------------------------------------------------------------------------------------------------------------------------------------------------------------------------------------------------------------------------------------------------------------------------------------------------------------------------------------------------------------------------------------------------------------------------------------------------------------------------------------------------------------------------------------------------------------------------------------------------------------------------------------------------------------------------------------------------------------------------------------------------------------------------------------------------------------------------------------------------------------------------------------------------------------------------------------------------------------------------+--------------------+\n",
       "|                                                                                                                                                                                                                                                                                                                                                                                           Rad Racer was ranked number 57 on IGN's Top 100 Nintendo Entertainment System games and was called \"iconic\" and one of the NES's premier racing games. Maxim included the game amongst thirteen others in their greatest 8-bit video games of all time list.                                                                                                                                                                                                                                                                                                                                                                                          | 1.0000001192092896 |\n",
       "|                                                                                                                                                                                                                                                    Rad Racer was met with favorable reviews, enjoyed commercial success, and sold 1.96 million copies. It also ranked 8th on Nintendo Power's player's poll Top 30. Famitsu praised the sense of speed but felt the game was slightly monotonous. Japanese publication Family Computer Magazine applauded the variety of game landscapes found in different levels. British magazine Computer and Video Games called it an \"extremely playable racing game\" and said \"things get very fast and competitive as you get further into the game.\"                                                                                                                                                                                                                                                   | 0.9292747974395752 |\n",
       "|                                                                                                                                                                                                                                                                                 The game sold 1.96 million copies and is considered one of the best racing games on the NES, but was criticized as being derivative of other racing games from the period. Reviewers widely compared the game to Out Run, though opined that Rad Racer was different in some ways, and they praised the sense of speed. The game appeared in the 1989 film The Wizard and was one of three games to feature a unique competition course in the 1990 Nintendo World Championship.                                                                                                                                                                                                                                                                                | 0.9212067723274231 |\n",
       "|                                                                                                                                                                                                                                                                                                                                              Rad Racer was released in Japan on August 7, 1987. It was later released in North America in October 1987 and in Europe on January 15, 1988. In August 1987, Nintendo released an arcade machine called Playchoice-10 that contained up to ten popular NES titles. Amongst the eligible NES games, Rad Racer was also available on the arcade machine.                                                                                                                                                                                                                                                                                                                                             | 0.8954247236251831 |\n",
       "| Due to most of Rad Racer's sales being from the United States, Rad Racer II was developed and released only in North America for the NES and the arcade. The sequel featured eight new tracks and new music but similar gameplay. Hardcore Gamer 101 said that steering was looser than the first game and rival cars more aggressive, leading to a less enjoyable playing experience. Despite the efforts of Square to make unique games with 3D features such as Rad Racer and 3-D Worldrunner, and high sales, the company was in financial trouble. These events are what led to a final attempt at a breakout hit, Final Fantasy. Rad Racer appeared in a scene in the movie The Wizard. It was also one of three games, including Super Mario Bros. and Tetris, featured at the 1990 Nintendo World Championship with an exclusive racing level to complete as one of the rounds of competition. The limited-edition release of the game's cartridge used in the tournament is now the rarest and most valuable Nintendo games available. | 0.8908036351203918 |\n",
       "+-------------------------------------------------------------------------------------------------------------------------------------------------------------------------------------------------------------------------------------------------------------------------------------------------------------------------------------------------------------------------------------------------------------------------------------------------------------------------------------------------------------------------------------------------------------------------------------------------------------------------------------------------------------------------------------------------------------------------------------------------------------------------------------------------------------------------------------------------------------------------------------------------------------------------------------------------------------------------------------------------------------------------------------------------+--------------------+"
      ]
     },
     "execution_count": 29,
     "metadata": {},
     "output_type": "execute_result"
    }
   ],
   "source": [
    "%%sql\n",
    "set @qv = (select v from vecs where id = 1125899906845489);\n",
    "\n",
    "select paragraph, v <*> @qv as sim\n",
    "from vecs\n",
    "order by sim use index (ivf_flat) desc\n",
    "limit 5;"
   ]
  },
  {
   "attachments": {},
   "cell_type": "markdown",
   "id": "23456229-1d2a-448f-a64f-e60452985ad9",
   "metadata": {
    "language": "sql"
   },
   "source": [
    "### Testing Performance using IVF pq\n",
    "Compresses the clusters and vectors, even faster than the above methods and slight trade off in accuarcy"
   ]
  },
  {
   "cell_type": "code",
   "execution_count": 33,
   "id": "a0c90d45-16b3-4347-9243-ed3df9d89432",
   "metadata": {
    "execution": {
     "iopub.execute_input": "2025-05-26T15:58:22.027917Z",
     "iopub.status.busy": "2025-05-26T15:58:22.027376Z",
     "iopub.status.idle": "2025-05-26T15:58:36.506659Z",
     "shell.execute_reply": "2025-05-26T15:58:36.505936Z",
     "shell.execute_reply.started": "2025-05-26T15:58:22.027885Z"
    },
    "language": "sql",
    "trusted": true
   },
   "outputs": [
    {
     "data": {
      "text/html": [
       "<span style=\"color: green\">5 rows affected.</span>"
      ],
      "text/plain": [
       "5 rows affected."
      ]
     },
     "metadata": {},
     "output_type": "display_data"
    },
    {
     "data": {
      "text/html": [
       "<table>\n",
       "    <thead>\n",
       "        <tr>\n",
       "            <th>paragraph</th>\n",
       "            <th>sim</th>\n",
       "        </tr>\n",
       "    </thead>\n",
       "    <tbody>\n",
       "        <tr>\n",
       "            <td>Rad Racer was ranked number 57 on IGN's Top 100 Nintendo Entertainment System games and was called \"iconic\" and one of the NES's premier racing games. Maxim included the game amongst thirteen others in their greatest 8-bit video games of all time list.</td>\n",
       "            <td>1.0000001192092896</td>\n",
       "        </tr>\n",
       "        <tr>\n",
       "            <td>Rad Racer was met with favorable reviews, enjoyed commercial success, and sold 1.96 million copies. It also ranked 8th on Nintendo Power's player's poll Top 30. Famitsu praised the sense of speed but felt the game was slightly monotonous. Japanese publication Family Computer Magazine applauded the variety of game landscapes found in different levels. British magazine Computer and Video Games called it an \"extremely playable racing game\" and said \"things get very fast and competitive as you get further into the game.\"</td>\n",
       "            <td>0.9292747974395752</td>\n",
       "        </tr>\n",
       "        <tr>\n",
       "            <td>The game sold 1.96 million copies and is considered one of the best racing games on the NES, but was criticized as being derivative of other racing games from the period. Reviewers widely compared the game to Out Run, though opined that Rad Racer was different in some ways, and they praised the sense of speed. The game appeared in the 1989 film The Wizard and was one of three games to feature a unique competition course in the 1990 Nintendo World Championship.</td>\n",
       "            <td>0.9212067723274231</td>\n",
       "        </tr>\n",
       "        <tr>\n",
       "            <td>Rad Racer was released in Japan on August 7, 1987. It was later released in North America in October 1987 and in Europe on January 15, 1988. In August 1987, Nintendo released an arcade machine called Playchoice-10 that contained up to ten popular NES titles. Amongst the eligible NES games, Rad Racer was also available on the arcade machine.</td>\n",
       "            <td>0.8954247236251831</td>\n",
       "        </tr>\n",
       "        <tr>\n",
       "            <td>Rad Racer, known as Highway Star in Japan, is a racing video game developed and published by Square for the Nintendo Entertainment System in 1987. In this game, players drive a Ferrari 328 or a generic Formula One racing machine through a racecourse. The game was released in North America and Europe months after its debut. The title became well known for being one of two titles from Square that made use of stereoscopic 3D, which was made possible by wearing a pair of anaglyph glasses. Square president Masafumi Miyamoto initially conceived the game as an opportunity for developer Nasir Gebelli to demonstrate his 3D programming skills. Gebelli developed, and often drew by hand, the graphics for the game's 3D mode.</td>\n",
       "            <td>0.886330246925354</td>\n",
       "        </tr>\n",
       "    </tbody>\n",
       "</table>"
      ],
      "text/plain": [
       "+---------------------------------------------------------------------------------------------------------------------------------------------------------------------------------------------------------------------------------------------------------------------------------------------------------------------------------------------------------------------------------------------------------------------------------------------------------------------------------------------------------------------------------------------------------------------------------------------------------------------------------------------------------------------------------------------------------------------------------------------------+--------------------+\n",
       "|                                                                                                                                                                                                                                                                                                                                                                     paragraph                                                                                                                                                                                                                                                                                                                                                                     |        sim         |\n",
       "+---------------------------------------------------------------------------------------------------------------------------------------------------------------------------------------------------------------------------------------------------------------------------------------------------------------------------------------------------------------------------------------------------------------------------------------------------------------------------------------------------------------------------------------------------------------------------------------------------------------------------------------------------------------------------------------------------------------------------------------------------+--------------------+\n",
       "|                                                                                                                                                                                                                                            Rad Racer was ranked number 57 on IGN's Top 100 Nintendo Entertainment System games and was called \"iconic\" and one of the NES's premier racing games. Maxim included the game amongst thirteen others in their greatest 8-bit video games of all time list.                                                                                                                                                                                                                                           | 1.0000001192092896 |\n",
       "|                                                                                                     Rad Racer was met with favorable reviews, enjoyed commercial success, and sold 1.96 million copies. It also ranked 8th on Nintendo Power's player's poll Top 30. Famitsu praised the sense of speed but felt the game was slightly monotonous. Japanese publication Family Computer Magazine applauded the variety of game landscapes found in different levels. British magazine Computer and Video Games called it an \"extremely playable racing game\" and said \"things get very fast and competitive as you get further into the game.\"                                                                                                    | 0.9292747974395752 |\n",
       "|                                                                                                                                  The game sold 1.96 million copies and is considered one of the best racing games on the NES, but was criticized as being derivative of other racing games from the period. Reviewers widely compared the game to Out Run, though opined that Rad Racer was different in some ways, and they praised the sense of speed. The game appeared in the 1989 film The Wizard and was one of three games to feature a unique competition course in the 1990 Nintendo World Championship.                                                                                                                                 | 0.9212067723274231 |\n",
       "|                                                                                                                                                                                               Rad Racer was released in Japan on August 7, 1987. It was later released in North America in October 1987 and in Europe on January 15, 1988. In August 1987, Nintendo released an arcade machine called Playchoice-10 that contained up to ten popular NES titles. Amongst the eligible NES games, Rad Racer was also available on the arcade machine.                                                                                                                                                                                              | 0.8954247236251831 |\n",
       "| Rad Racer, known as Highway Star in Japan, is a racing video game developed and published by Square for the Nintendo Entertainment System in 1987. In this game, players drive a Ferrari 328 or a generic Formula One racing machine through a racecourse. The game was released in North America and Europe months after its debut. The title became well known for being one of two titles from Square that made use of stereoscopic 3D, which was made possible by wearing a pair of anaglyph glasses. Square president Masafumi Miyamoto initially conceived the game as an opportunity for developer Nasir Gebelli to demonstrate his 3D programming skills. Gebelli developed, and often drew by hand, the graphics for the game's 3D mode. | 0.886330246925354  |\n",
       "+---------------------------------------------------------------------------------------------------------------------------------------------------------------------------------------------------------------------------------------------------------------------------------------------------------------------------------------------------------------------------------------------------------------------------------------------------------------------------------------------------------------------------------------------------------------------------------------------------------------------------------------------------------------------------------------------------------------------------------------------------+--------------------+"
      ]
     },
     "execution_count": 33,
     "metadata": {},
     "output_type": "execute_result"
    }
   ],
   "source": [
    "%%sql\n",
    "set @qv = (select v from vecs where id = 1125899906845489);\n",
    "\n",
    "select paragraph, v <*> @qv as sim\n",
    "from vecs\n",
    "order by sim use index (ivf_pq) desc\n",
    "limit 5;"
   ]
  },
  {
   "attachments": {},
   "cell_type": "markdown",
   "id": "f0175b53-a743-418c-9574-0b9f50788fa2",
   "metadata": {
    "language": "sql"
   },
   "source": [
    "Power of Indexing - Used when working with large scale Vector data"
   ]
  },
  {
   "attachments": {},
   "cell_type": "markdown",
   "id": "20b0c5d1-12b3-49a9-9430-6211a279883a",
   "metadata": {
    "language": "sql"
   },
   "source": [
    "## Hybrid Search in Single Store"
   ]
  },
  {
   "cell_type": "code",
   "execution_count": 34,
   "id": "41a0b958-375d-4511-a149-3af747bb0f59",
   "metadata": {
    "execution": {
     "iopub.execute_input": "2025-05-26T15:59:49.748821Z",
     "iopub.status.busy": "2025-05-26T15:59:49.748490Z",
     "iopub.status.idle": "2025-05-26T15:59:52.219717Z",
     "shell.execute_reply": "2025-05-26T15:59:52.219113Z",
     "shell.execute_reply.started": "2025-05-26T15:59:49.748797Z"
    },
    "language": "sql",
    "trusted": true
   },
   "outputs": [
    {
     "data": {
      "text/html": [
       "<span style=\"color: green\">5 rows affected.</span>"
      ],
      "text/plain": [
       "5 rows affected."
      ]
     },
     "metadata": {},
     "output_type": "display_data"
    },
    {
     "data": {
      "text/html": [
       "<table>\n",
       "    <thead>\n",
       "        <tr>\n",
       "            <th>id</th>\n",
       "            <th>paragraph</th>\n",
       "            <th>hybrid_score</th>\n",
       "            <th>vec_score</th>\n",
       "            <th>ft_score</th>\n",
       "        </tr>\n",
       "    </thead>\n",
       "    <tbody>\n",
       "        <tr>\n",
       "            <td>1125899906848349</td>\n",
       "            <td>Super Mario Kart is a kart racing game developed and published by Nintendo for the Super Nintendo Entertainment System . The first game in the Mario Kart series, it was released in Japan and North America in 1992, and in Europe the following year in 1993. Selling 8.76 million copies worldwide, the game went on to become the fourth best-selling SNES game of all time. Super Mario Kart was re-released on the Wii's Virtual Console in 2009, on the Wii U's Virtual Console in 2013, and on the New Nintendo 3DS's Virtual Console in 2016. Nintendo re-released Super Mario Kart in 2017 as part of the company's Super NES Classic Edition.</td>\n",
       "            <td>1.0000001668930054</td>\n",
       "            <td>1.000000238418579</td>\n",
       "            <td>1.0</td>\n",
       "        </tr>\n",
       "        <tr>\n",
       "            <td>2251799813690085</td>\n",
       "            <td>Mario Kart DS was the best-selling game in its first month of release, and also held that position the following month. Overall, Mario Kart DS is the third best-selling game for the Nintendo DS as of March 2016, and the third best-selling Mario Kart game, behind Mario Kart 8 Deluxe and Mario Kart Wii, with 23.6 million units sold worldwide.</td>\n",
       "            <td>0.9238715887069702</td>\n",
       "            <td>0.8912451267242432</td>\n",
       "            <td>1.0</td>\n",
       "        </tr>\n",
       "        <tr>\n",
       "            <td>1125899906855047</td>\n",
       "            <td>Mario Kart: Super Circuit is a 2001 kart racing game for the Game Boy Advance . It is the third Mario Kart game and retains its predecessors' gameplay: as a Mario franchise character, the player races opponents around tracks based on locales from the Super Mario platform games. Tracks contain obstacles and power-ups that respectively hamper and aid the player's progress. Super Circuit includes various single-player and multiplayer game modes, including a Grand Prix racing mode and a last man standing battle mode.</td>\n",
       "            <td>0.9178776502609253</td>\n",
       "            <td>0.8962398767471313</td>\n",
       "            <td>0.9683657884597778</td>\n",
       "        </tr>\n",
       "        <tr>\n",
       "            <td>1125899906848375</td>\n",
       "            <td>Several sequels to Super Mario Kart have been released for successive generations of Nintendo consoles, each receiving commercial success and critical acclaim. While some elements have developed throughout the series, the core experience from Super Mario Kart has remained intact. The first sequel, Mario Kart 64, was released in 1996 for the Nintendo 64 and was the first Mario Kart game to feature fully 3D graphics. Although reviewers including IGN and GameSpot felt that the single-player gameplay was lacking compared to its predecessor, the simultaneous four-person multiplayer modes – a first for the Nintendo 64 – were praised. The second sequel, Mario Kart: Super Circuit, was released for the Game Boy Advance in 2001. It was described by GameSpot as more of a remake of Super Mario Kart than a sequel to Mario Kart 64 and featured a return to the graphical style of the original. As well as featuring new tracks, players are able to unlock the original SNES tracks if certain achievements are completed. Mario Kart: Double Dash was released for the GameCube in 2003. Unlike any other Mario Kart game before or since, it features two riders in each kart, allowing for a new form of cooperative multiplayer where one player controls the kart's movement and the other fires weapons. Mario Kart DS, released for the Nintendo DS in 2005, was the first Mario Kart game to include online play via the Nintendo Wi-Fi Connection. It went on to become the best selling handheld racing game of all time, selling 7.83 million units. The game marks the debut of tracks appearing in previous games. Mario Kart Wii was released for the Wii in 2008 and incorporates motion controls and 12-player racing. Like Mario Kart DS, it includes online play; it allows racers to play as user-created Miis as well as Mario series characters and comes packaged with the Wii Wheel peripheral, which can act as the game's primary control mechanism when coupled with a Wii Remote. Mario Kart Wii went on to be the worldwide best-selling game of 2008. Mario Kart 7 for the Nintendo 3DS was released in 2011, which features racing on land, sea, and air. Mario Kart 7 added the ability to customize the kart and to race in first-person mode. Three Mario Kart arcade games have been released, Mario Kart Arcade GP in 2005, Mario Kart Arcade GP 2 in 2007, and Mario Kart Arcade GP DX in 2013. All of them were developed jointly by Nintendo and Namco and feature Namco characters including Pac-Man and Blinky. The most recent entry in the series is Mario Kart 8 for the Wii U, which was released at the end of May 2014, which brings back gliders and propellers from Mario Kart 7 as well as 12-player racing in Mario Kart Wii. Mario Kart 8 includes a new feature called Mario Kart TV, where players can watch highlights of previous races and uploading them to YouTube. Another new feature is anti-gravity racing, where players can race on walls and ceilings. An enhanced port, Mario Kart 8 Deluxe, was released on the Nintendo Switch on April 28, 2017. The game keeps most elements from the Wii U version, while adding more characters, kart parts, battle modes, and battle stages. The port received universal critical acclaim, and has sold over 20 million copies as of August 2020, becoming the best selling game for the console.</td>\n",
       "            <td>0.9143435597419738</td>\n",
       "            <td>0.9240285158157349</td>\n",
       "            <td>0.8917453289031982</td>\n",
       "        </tr>\n",
       "        <tr>\n",
       "            <td>1125899906848362</td>\n",
       "            <td>The game did not start out as a Mario series game and the first prototype featured a generic kart racer character; the team decided that characters three heads tall would best suit the design of the karts. They did not decide to incorporate Mario characters until a few months into development. The choice was made after the development team when observing how one kart looked to another driving past it, decided to see what it would look like with Mario in the kart. Thinking that having Mario in the kart looked better than previous designs, the idea of a Mario themed racing game was born.</td>\n",
       "            <td>0.9069618225097655</td>\n",
       "            <td>0.8670883178710938</td>\n",
       "            <td>1.0</td>\n",
       "        </tr>\n",
       "    </tbody>\n",
       "</table>"
      ],
      "text/plain": [
       "+------------------+----------------------------------------------------------------------------------------------------------------------------------------------------------------------------------------------------------------------------------------------------------------------------------------------------------------------------------------------------------------------------------------------------------------------------------------------------------------------------------------------------------------------------------------------------------------------------------------------------------------------------------------------------------------------------------------------------------------------------------------------------------------------------------------------------------------------------------------------------------------------------------------------------------------------------------------------------------------------------------------------------------------------------------------------------------------------------------------------------------------------------------------------------------------------------------------------------------------------------------------------------------------------------------------------------------------------------------------------------------------------------------------------------------------------------------------------------------------------------------------------------------------------------------------------------------------------------------------------------------------------------------------------------------------------------------------------------------------------------------------------------------------------------------------------------------------------------------------------------------------------------------------------------------------------------------------------------------------------------------------------------------------------------------------------------------------------------------------------------------------------------------------------------------------------------------------------------------------------------------------------------------------------------------------------------------------------------------------------------------------------------------------------------------------------------------------------------------------------------------------------------------------------------------------------------------------------------------------------------------------------------------------------------------------------------------------------------------------------------------------------------------------------------------------------------------------------------------------------------------------------------------------------------------------------------------------------------------------------------------------------------------------------------------------------------------------------------------------------------------------------------------------------------------------------------------------------------------------------------------------------------------------------------------------------------------------------------------------------------------------------------------------------------------------------------------------+--------------------+--------------------+--------------------+\n",
       "|        id        |                                                                                                                                                                                                                                                                                                                                                                                                                                                                                                                                                                                                                                                                                                                                                                                                                                                                                                                                                                                                                                                                                                                                                                                                                                                                                                                                                                                                                                                                                                                                                                                                                                                                                                               paragraph                                                                                                                                                                                                                                                                                                                                                                                                                                                                                                                                                                                                                                                                                                                                                                                                                                                                                                                                                                                                                                                                                                                                                                                                                                                                                                                                                                                                                                                                                                                                                                                                                                                                                                                |    hybrid_score    |     vec_score      |      ft_score      |\n",
       "+------------------+----------------------------------------------------------------------------------------------------------------------------------------------------------------------------------------------------------------------------------------------------------------------------------------------------------------------------------------------------------------------------------------------------------------------------------------------------------------------------------------------------------------------------------------------------------------------------------------------------------------------------------------------------------------------------------------------------------------------------------------------------------------------------------------------------------------------------------------------------------------------------------------------------------------------------------------------------------------------------------------------------------------------------------------------------------------------------------------------------------------------------------------------------------------------------------------------------------------------------------------------------------------------------------------------------------------------------------------------------------------------------------------------------------------------------------------------------------------------------------------------------------------------------------------------------------------------------------------------------------------------------------------------------------------------------------------------------------------------------------------------------------------------------------------------------------------------------------------------------------------------------------------------------------------------------------------------------------------------------------------------------------------------------------------------------------------------------------------------------------------------------------------------------------------------------------------------------------------------------------------------------------------------------------------------------------------------------------------------------------------------------------------------------------------------------------------------------------------------------------------------------------------------------------------------------------------------------------------------------------------------------------------------------------------------------------------------------------------------------------------------------------------------------------------------------------------------------------------------------------------------------------------------------------------------------------------------------------------------------------------------------------------------------------------------------------------------------------------------------------------------------------------------------------------------------------------------------------------------------------------------------------------------------------------------------------------------------------------------------------------------------------------------------------------------------------------+--------------------+--------------------+--------------------+\n",
       "| 1125899906848349 |                                                                                                                                                                                                                                                                                                                                                                                                                                                                                                                                                                                                                                                                                                                                                                                                                                                                                                                                                                                                                                                                                                                                                                                                                                                                                                                                                                                        Super Mario Kart is a kart racing game developed and published by Nintendo for the Super Nintendo Entertainment System . The first game in the Mario Kart series, it was released in Japan and North America in 1992, and in Europe the following year in 1993. Selling 8.76 million copies worldwide, the game went on to become the fourth best-selling SNES game of all time. Super Mario Kart was re-released on the Wii's Virtual Console in 2009, on the Wii U's Virtual Console in 2013, and on the New Nintendo 3DS's Virtual Console in 2016. Nintendo re-released Super Mario Kart in 2017 as part of the company's Super NES Classic Edition.                                                                                                                                                                                                                                                                                                                                                                                                                                                                                                                                                                                                                                                                                                                                                                                                                                                                                                                                                                                                                                                                                                                                                                                                                                                                                                                                                                                        | 1.0000001668930054 | 1.000000238418579  |        1.0         |\n",
       "| 2251799813690085 |                                                                                                                                                                                                                                                                                                                                                                                                                                                                                                                                                                                                                                                                                                                                                                                                                                                                                                                                                                                                                                                                                                                                                                                                                                                                                                                                                                                                                                                                                                                                         Mario Kart DS was the best-selling game in its first month of release, and also held that position the following month. Overall, Mario Kart DS is the third best-selling game for the Nintendo DS as of March 2016, and the third best-selling Mario Kart game, behind Mario Kart 8 Deluxe and Mario Kart Wii, with 23.6 million units sold worldwide.                                                                                                                                                                                                                                                                                                                                                                                                                                                                                                                                                                                                                                                                                                                                                                                                                                                                                                                                                                                                                                                                                                                                                                                                                                                                                                                                                                                                                                                                                                                                         | 0.9238715887069702 | 0.8912451267242432 |        1.0         |\n",
       "| 1125899906855047 |                                                                                                                                                                                                                                                                                                                                                                                                                                                                                                                                                                                                                                                                                                                                                                                                                                                                                                                                                                                                                                                                                                                                                                                                                                                                                                                                                                                                                                                 Mario Kart: Super Circuit is a 2001 kart racing game for the Game Boy Advance . It is the third Mario Kart game and retains its predecessors' gameplay: as a Mario franchise character, the player races opponents around tracks based on locales from the Super Mario platform games. Tracks contain obstacles and power-ups that respectively hamper and aid the player's progress. Super Circuit includes various single-player and multiplayer game modes, including a Grand Prix racing mode and a last man standing battle mode.                                                                                                                                                                                                                                                                                                                                                                                                                                                                                                                                                                                                                                                                                                                                                                                                                                                                                                                                                                                                                                                                                                                                                                                                                                                                                                                                                                                                                                                 | 0.9178776502609253 | 0.8962398767471313 | 0.9683657884597778 |\n",
       "| 1125899906848375 | Several sequels to Super Mario Kart have been released for successive generations of Nintendo consoles, each receiving commercial success and critical acclaim. While some elements have developed throughout the series, the core experience from Super Mario Kart has remained intact. The first sequel, Mario Kart 64, was released in 1996 for the Nintendo 64 and was the first Mario Kart game to feature fully 3D graphics. Although reviewers including IGN and GameSpot felt that the single-player gameplay was lacking compared to its predecessor, the simultaneous four-person multiplayer modes – a first for the Nintendo 64 – were praised. The second sequel, Mario Kart: Super Circuit, was released for the Game Boy Advance in 2001. It was described by GameSpot as more of a remake of Super Mario Kart than a sequel to Mario Kart 64 and featured a return to the graphical style of the original. As well as featuring new tracks, players are able to unlock the original SNES tracks if certain achievements are completed. Mario Kart: Double Dash was released for the GameCube in 2003. Unlike any other Mario Kart game before or since, it features two riders in each kart, allowing for a new form of cooperative multiplayer where one player controls the kart's movement and the other fires weapons. Mario Kart DS, released for the Nintendo DS in 2005, was the first Mario Kart game to include online play via the Nintendo Wi-Fi Connection. It went on to become the best selling handheld racing game of all time, selling 7.83 million units. The game marks the debut of tracks appearing in previous games. Mario Kart Wii was released for the Wii in 2008 and incorporates motion controls and 12-player racing. Like Mario Kart DS, it includes online play; it allows racers to play as user-created Miis as well as Mario series characters and comes packaged with the Wii Wheel peripheral, which can act as the game's primary control mechanism when coupled with a Wii Remote. Mario Kart Wii went on to be the worldwide best-selling game of 2008. Mario Kart 7 for the Nintendo 3DS was released in 2011, which features racing on land, sea, and air. Mario Kart 7 added the ability to customize the kart and to race in first-person mode. Three Mario Kart arcade games have been released, Mario Kart Arcade GP in 2005, Mario Kart Arcade GP 2 in 2007, and Mario Kart Arcade GP DX in 2013. All of them were developed jointly by Nintendo and Namco and feature Namco characters including Pac-Man and Blinky. The most recent entry in the series is Mario Kart 8 for the Wii U, which was released at the end of May 2014, which brings back gliders and propellers from Mario Kart 7 as well as 12-player racing in Mario Kart Wii. Mario Kart 8 includes a new feature called Mario Kart TV, where players can watch highlights of previous races and uploading them to YouTube. Another new feature is anti-gravity racing, where players can race on walls and ceilings. An enhanced port, Mario Kart 8 Deluxe, was released on the Nintendo Switch on April 28, 2017. The game keeps most elements from the Wii U version, while adding more characters, kart parts, battle modes, and battle stages. The port received universal critical acclaim, and has sold over 20 million copies as of August 2020, becoming the best selling game for the console. | 0.9143435597419738 | 0.9240285158157349 | 0.8917453289031982 |\n",
       "| 1125899906848362 |                                                                                                                                                                                                                                                                                                                                                                                                                                                                                                                                                                                                                                                                                                                                                                                                                                                                                                                                                                                                                                                                                                                                                                                                                                                                                                                                                                                                            The game did not start out as a Mario series game and the first prototype featured a generic kart racer character; the team decided that characters three heads tall would best suit the design of the karts. They did not decide to incorporate Mario characters until a few months into development. The choice was made after the development team when observing how one kart looked to another driving past it, decided to see what it would look like with Mario in the kart. Thinking that having Mario in the kart looked better than previous designs, the idea of a Mario themed racing game was born.                                                                                                                                                                                                                                                                                                                                                                                                                                                                                                                                                                                                                                                                                                                                                                                                                                                                                                                                                                                                                                                                                                                                                                                                                                                                                                                                                                                                            | 0.9069618225097655 | 0.8670883178710938 |        1.0         |\n",
       "+------------------+----------------------------------------------------------------------------------------------------------------------------------------------------------------------------------------------------------------------------------------------------------------------------------------------------------------------------------------------------------------------------------------------------------------------------------------------------------------------------------------------------------------------------------------------------------------------------------------------------------------------------------------------------------------------------------------------------------------------------------------------------------------------------------------------------------------------------------------------------------------------------------------------------------------------------------------------------------------------------------------------------------------------------------------------------------------------------------------------------------------------------------------------------------------------------------------------------------------------------------------------------------------------------------------------------------------------------------------------------------------------------------------------------------------------------------------------------------------------------------------------------------------------------------------------------------------------------------------------------------------------------------------------------------------------------------------------------------------------------------------------------------------------------------------------------------------------------------------------------------------------------------------------------------------------------------------------------------------------------------------------------------------------------------------------------------------------------------------------------------------------------------------------------------------------------------------------------------------------------------------------------------------------------------------------------------------------------------------------------------------------------------------------------------------------------------------------------------------------------------------------------------------------------------------------------------------------------------------------------------------------------------------------------------------------------------------------------------------------------------------------------------------------------------------------------------------------------------------------------------------------------------------------------------------------------------------------------------------------------------------------------------------------------------------------------------------------------------------------------------------------------------------------------------------------------------------------------------------------------------------------------------------------------------------------------------------------------------------------------------------------------------------------------------------------------------------+--------------------+--------------------+--------------------+"
      ]
     },
     "execution_count": 34,
     "metadata": {},
     "output_type": "execute_result"
    }
   ],
   "source": [
    "%%sql\n",
    "\n",
    "set @v_mario = (select v\n",
    "                from vecs where url = \"https://en.wikipedia.org/wiki/Super_Mario_Kart\"\n",
    "                order by id\n",
    "                limit 1);\n",
    "\n",
    "with fts as(\n",
    "    select id, paragraph, match (paragraph) against ('Mario Kart') as score\n",
    "    from vecs\n",
    "    where match (paragraph) against ('Mario Kart')\n",
    "    order by score desc\n",
    "    limit 200\n",
    "),\n",
    "vs as (\n",
    "    select id, paragraph, v <*> @v_mario as score\n",
    "    from vecs\n",
    "    order by score use index (auto) desc\n",
    "    limit 200\n",
    ")\n",
    "select vs.id,\n",
    "    vs.paragraph,\n",
    "    .3 * ifnull(fts.score, 0) + .7 * vs.score as hybrid_score,\n",
    "    vs.score as vec_score,\n",
    "    ifnull(fts.score, 0) as ft_score\n",
    "from fts full outer join vs\n",
    "    on fts.id = vs.id\n",
    "order by hybrid_score desc\n",
    "limit 5;"
   ]
  },
  {
   "attachments": {},
   "cell_type": "markdown",
   "id": "517fd4db-a15c-4373-bc8d-04f6c287051a",
   "metadata": {
    "language": "sql"
   },
   "source": [
    "## Chating with Video Game Data\n",
    "1) Use the power of semantic search & open AI language models to interact with video game data through chatbot\n",
    "### Installing Necessary Libraries"
   ]
  },
  {
   "cell_type": "code",
   "execution_count": 39,
   "id": "20c27b9b-a46c-428c-843c-21f0d4a7c333",
   "metadata": {
    "execution": {
     "iopub.execute_input": "2025-05-26T16:10:03.160785Z",
     "iopub.status.busy": "2025-05-26T16:10:03.160482Z",
     "iopub.status.idle": "2025-05-26T16:10:08.344426Z",
     "shell.execute_reply": "2025-05-26T16:10:08.343692Z",
     "shell.execute_reply.started": "2025-05-26T16:10:03.160753Z"
    },
    "language": "python",
    "trusted": true
   },
   "outputs": [],
   "source": [
    "!pip3 install openai --quiet\n",
    "\n",
    "import sqlalchemy as sa\n",
    "from openai import OpenAI\n",
    "import getpass\n",
    "import os\n",
    "import time\n",
    "import json"
   ]
  },
  {
   "attachments": {},
   "cell_type": "markdown",
   "id": "1bf75928-390f-4348-be47-2f553b37e23a",
   "metadata": {
    "language": "python"
   },
   "source": [
    "### Connecting OPEN AI API to Single Store\n",
    "1) Setting Up Open AI API key and defining the connection\n",
    "2) Specifing the models for generating the embeddings & interacting with GPT 3.5 Turbo\n",
    "3) Will ask Input and store on the 'OPEN_API_KEY' environment variable"
   ]
  },
  {
   "cell_type": "code",
   "execution_count": 147,
   "id": "647fa040-86e3-498d-9b9b-d9188f12c5d0",
   "metadata": {
    "execution": {
     "iopub.execute_input": "2025-05-26T17:20:41.828711Z",
     "iopub.status.busy": "2025-05-26T17:20:41.827932Z",
     "iopub.status.idle": "2025-05-26T17:20:46.433901Z",
     "shell.execute_reply": "2025-05-26T17:20:46.433378Z",
     "shell.execute_reply.started": "2025-05-26T17:20:41.828671Z"
    },
    "language": "python",
    "trusted": true
   },
   "outputs": [
    {
     "name": "stdout",
     "output_type": "stream",
     "text": [
      "OpenAI API Key:  ········\n"
     ]
    }
   ],
   "source": [
    "# OpenAI connection\n",
    "OPENAI_API_KEY = os.environ['OPENAI_API_KEY'] = getpass.getpass('OpenAI API Key: ')\n",
    "client = OpenAI()\n",
    "EMBEDDING_MODEL = 'text-embedding-ada-002'\n",
    "GPT_MODEL = 'gpt-3.5-turbo'\n",
    "\n",
    "# SingleStore connection\n",
    "engine = sa.create_engine(connection_url)\n",
    "connection = engine.connect()"
   ]
  },
  {
   "attachments": {},
   "cell_type": "markdown",
   "id": "96d4df79-f7e7-4308-b1c5-e60d190ffa38",
   "metadata": {
    "language": "python"
   },
   "source": [
    "### Function to get embeddings \n",
    "Converts text input into Embedding Vector using openAI API which we use for semantic search "
   ]
  },
  {
   "cell_type": "code",
   "execution_count": 80,
   "id": "a02897e1-c25b-43d3-b72e-85c8317f2adf",
   "metadata": {
    "execution": {
     "iopub.execute_input": "2025-05-26T16:46:01.321045Z",
     "iopub.status.busy": "2025-05-26T16:46:01.320634Z",
     "iopub.status.idle": "2025-05-26T16:46:01.327163Z",
     "shell.execute_reply": "2025-05-26T16:46:01.325796Z",
     "shell.execute_reply.started": "2025-05-26T16:46:01.321006Z"
    },
    "language": "python",
    "trusted": true
   },
   "outputs": [],
   "source": [
    "def get_embedding(text, model=EMBEDDING_MODEL): \n",
    "    ''' Generates the Open AI embedding vector from an input `text`. '''\n",
    "    if isinstance(text, str):\n",
    "        response = client.embeddings.create(input=[text], model = model)\n",
    "        return json.dumps(response.data[0].embedding)"
   ]
  },
  {
   "attachments": {},
   "cell_type": "markdown",
   "id": "12b57766-593c-475d-bc7d-e3bd7cd94ce1",
   "metadata": {
    "language": "python"
   },
   "source": [
    "### Function to perform semantic search\n",
    "Perform semantic search from the database by the embedding vectors\n",
    "Ranks and results the top results based on the similarity to the query"
   ]
  },
  {
   "cell_type": "code",
   "execution_count": 85,
   "id": "3c1b752f-1b60-4012-a1f4-6b1b29791292",
   "metadata": {
    "execution": {
     "iopub.execute_input": "2025-05-26T16:51:24.545056Z",
     "iopub.status.busy": "2025-05-26T16:51:24.544671Z",
     "iopub.status.idle": "2025-05-26T16:51:24.550059Z",
     "shell.execute_reply": "2025-05-26T16:51:24.549522Z",
     "shell.execute_reply.started": "2025-05-26T16:51:24.544972Z"
    },
    "language": "python",
    "trusted": true
   },
   "outputs": [],
   "source": [
    "def search_wiki_page(query, limit=5):\n",
    "    '''Returns a df of the top k matches to the query ordered by similarity.'''\n",
    "    query_embedding_vec = get_embedding(query)\n",
    "    statement = sa.text(\n",
    "        f'''select paragraph, v <*> :query_embedding :> vector(1536) AS similarity\n",
    "        from vecs\n",
    "        order by similarity use index (auto) desc\n",
    "        limit :limit;'''\n",
    "    )\n",
    "    print(\"Searching for matches...\")\n",
    "    start_time = time.time()\n",
    "    results = connection.execute(statement, {\"query_embedding\": query_embedding_vec, \"limit\": limit})\n",
    "    end_time = time.time()\n",
    "    execution_time = end_time - start_time\n",
    "    print(f\"Search complete in {execution_time} seconds.\")\n",
    "    results_as_dict = results.fetchall()\n",
    "    return results_as_dict"
   ]
  },
  {
   "attachments": {},
   "cell_type": "markdown",
   "id": "73ff78eb-944a-40f5-b23e-669516c09fc2",
   "metadata": {
    "language": "python"
   },
   "source": [
    "### Function to combine the above functions\n",
    "Using RAG to answer the question from the wikipedia,using Semantic search the GPT chatbot gives the context aware response to the query"
   ]
  },
  {
   "cell_type": "code",
   "execution_count": 98,
   "id": "0d3ab4fc-a1f6-4223-a433-f33cd38612b2",
   "metadata": {
    "execution": {
     "iopub.execute_input": "2025-05-26T16:59:40.114965Z",
     "iopub.status.busy": "2025-05-26T16:59:40.114374Z",
     "iopub.status.idle": "2025-05-26T16:59:40.119083Z",
     "shell.execute_reply": "2025-05-26T16:59:40.118532Z",
     "shell.execute_reply.started": "2025-05-26T16:59:40.114936Z"
    },
    "language": "python",
    "trusted": true
   },
   "outputs": [],
   "source": [
    "def ask_wiki_page(query, limit=5, temp=0.0):\n",
    "    '''Uses RAG to answer a question from the wiki page'''\n",
    "    results = search_wiki_page(query, limit)\n",
    "    print(\"Asking Chatbot...\")\n",
    "    prompt = f'''Excerpt from the conversation history:\n",
    "        {results}\n",
    "        Question: {query}\n",
    "\n",
    "        Based on the conversation history, try to provide the most accurate answer to the question.\n",
    "        Consider the details mentioned in the conversation history to formulate a response that is as\n",
    "        helpful and precise as possible. please provide links to WIKIPEDIA ARTICLES TO LOOK AT FOR MORE INFORMATION.\n",
    "\n",
    "        Most importantly, IF THE INFORMATION IS NOT PRESENT IN THE CONVERSATION HISTORY, DO NOT MAKE UP AN ANSWER.'''\n",
    "    response = client.chat.completions.create(\n",
    "        model=GPT_MODEL,\n",
    "        messages=[\n",
    "            {\"role\": \"system\", \"content\": \"You are a helpful assistant who is answering questions about an article.\"},\n",
    "            {\"role\": \"user\", \"content\": prompt}\n",
    "        ],\n",
    "        temperature=temp\n",
    "    )\n",
    "    response_message = response.choices[0].message.content\n",
    "    return response_message"
   ]
  },
  {
   "attachments": {},
   "cell_type": "markdown",
   "id": "6cc93f76-de22-42db-98ab-7ed03d9b5538",
   "metadata": {
    "language": "sql"
   },
   "source": [
    "## Prompt the user to ask the questions"
   ]
  },
  {
   "cell_type": "code",
   "execution_count": 148,
   "id": "7d77aa01-ab46-43f7-85a1-b219c3a34d5a",
   "metadata": {
    "execution": {
     "iopub.execute_input": "2025-05-26T17:20:52.279769Z",
     "iopub.status.busy": "2025-05-26T17:20:52.279329Z",
     "iopub.status.idle": "2025-05-26T17:21:08.120987Z",
     "shell.execute_reply": "2025-05-26T17:21:08.120182Z",
     "shell.execute_reply.started": "2025-05-26T17:20:52.279746Z"
    },
    "language": "python",
    "trusted": true
   },
   "outputs": [
    {
     "name": "stdout",
     "output_type": "stream",
     "text": [
      "Ask me a question about video games! What do you know about RDR 2\n"
     ]
    },
    {
     "ename": "RateLimitError",
     "evalue": "Error code: 429 - {'error': {'message': 'You exceeded your current quota, please check your plan and billing details. For more information on this error, read the docs: https://platform.openai.com/docs/guides/error-codes/api-errors.', 'type': 'insufficient_quota', 'param': None, 'code': 'insufficient_quota'}}",
     "output_type": "error",
     "traceback": [
      "\u001b[0;31m---------------------------------------------------------------------------\u001b[0m",
      "\u001b[0;31mRateLimitError\u001b[0m                            Traceback (most recent call last)",
      "Cell \u001b[0;32mIn[148], line 2\u001b[0m\n\u001b[1;32m      1\u001b[0m query \u001b[38;5;241m=\u001b[39m \u001b[38;5;28minput\u001b[39m(\u001b[38;5;124m'\u001b[39m\u001b[38;5;124mAsk me a question about video games!\u001b[39m\u001b[38;5;124m'\u001b[39m)\n\u001b[0;32m----> 2\u001b[0m \u001b[43mask_wiki_page\u001b[49m\u001b[43m(\u001b[49m\u001b[43mquery\u001b[49m\u001b[43m)\u001b[49m\n",
      "Cell \u001b[0;32mIn[98], line 3\u001b[0m, in \u001b[0;36mask_wiki_page\u001b[0;34m(query, limit, temp)\u001b[0m\n\u001b[1;32m      1\u001b[0m \u001b[38;5;28;01mdef\u001b[39;00m \u001b[38;5;21mask_wiki_page\u001b[39m(query, limit\u001b[38;5;241m=\u001b[39m\u001b[38;5;241m5\u001b[39m, temp\u001b[38;5;241m=\u001b[39m\u001b[38;5;241m0.0\u001b[39m):\n\u001b[1;32m      2\u001b[0m \u001b[38;5;250m    \u001b[39m\u001b[38;5;124;03m'''Uses RAG to answer a question from the wiki page'''\u001b[39;00m\n\u001b[0;32m----> 3\u001b[0m     results \u001b[38;5;241m=\u001b[39m \u001b[43msearch_wiki_page\u001b[49m\u001b[43m(\u001b[49m\u001b[43mquery\u001b[49m\u001b[43m,\u001b[49m\u001b[43m \u001b[49m\u001b[43mlimit\u001b[49m\u001b[43m)\u001b[49m\n\u001b[1;32m      4\u001b[0m     \u001b[38;5;28mprint\u001b[39m(\u001b[38;5;124m\"\u001b[39m\u001b[38;5;124mAsking Chatbot...\u001b[39m\u001b[38;5;124m\"\u001b[39m)\n\u001b[1;32m      5\u001b[0m     prompt \u001b[38;5;241m=\u001b[39m \u001b[38;5;124mf\u001b[39m\u001b[38;5;124m'''\u001b[39m\u001b[38;5;124mExcerpt from the conversation history:\u001b[39m\n\u001b[1;32m      6\u001b[0m \u001b[38;5;124m        \u001b[39m\u001b[38;5;132;01m{\u001b[39;00mresults\u001b[38;5;132;01m}\u001b[39;00m\n\u001b[1;32m      7\u001b[0m \u001b[38;5;124m        Question: \u001b[39m\u001b[38;5;132;01m{\u001b[39;00mquery\u001b[38;5;132;01m}\u001b[39;00m\n\u001b[0;32m   (...)\u001b[0m\n\u001b[1;32m     12\u001b[0m \n\u001b[1;32m     13\u001b[0m \u001b[38;5;124m        Most importantly, IF THE INFORMATION IS NOT PRESENT IN THE CONVERSATION HISTORY, DO NOT MAKE UP AN ANSWER.\u001b[39m\u001b[38;5;124m'''\u001b[39m\n",
      "Cell \u001b[0;32mIn[85], line 3\u001b[0m, in \u001b[0;36msearch_wiki_page\u001b[0;34m(query, limit)\u001b[0m\n\u001b[1;32m      1\u001b[0m \u001b[38;5;28;01mdef\u001b[39;00m \u001b[38;5;21msearch_wiki_page\u001b[39m(query, limit\u001b[38;5;241m=\u001b[39m\u001b[38;5;241m5\u001b[39m):\n\u001b[1;32m      2\u001b[0m \u001b[38;5;250m    \u001b[39m\u001b[38;5;124;03m'''Returns a df of the top k matches to the query ordered by similarity.'''\u001b[39;00m\n\u001b[0;32m----> 3\u001b[0m     query_embedding_vec \u001b[38;5;241m=\u001b[39m \u001b[43mget_embedding\u001b[49m\u001b[43m(\u001b[49m\u001b[43mquery\u001b[49m\u001b[43m)\u001b[49m\n\u001b[1;32m      4\u001b[0m     statement \u001b[38;5;241m=\u001b[39m sa\u001b[38;5;241m.\u001b[39mtext(\n\u001b[1;32m      5\u001b[0m         \u001b[38;5;124mf\u001b[39m\u001b[38;5;124m'''\u001b[39m\u001b[38;5;124mselect paragraph, v <*> :query_embedding :> vector(1536) AS similarity\u001b[39m\n\u001b[1;32m      6\u001b[0m \u001b[38;5;124m        from vecs\u001b[39m\n\u001b[1;32m      7\u001b[0m \u001b[38;5;124m        order by similarity use index (auto) desc\u001b[39m\n\u001b[1;32m      8\u001b[0m \u001b[38;5;124m        limit :limit;\u001b[39m\u001b[38;5;124m'''\u001b[39m\n\u001b[1;32m      9\u001b[0m     )\n\u001b[1;32m     10\u001b[0m     \u001b[38;5;28mprint\u001b[39m(\u001b[38;5;124m\"\u001b[39m\u001b[38;5;124mSearching for matches...\u001b[39m\u001b[38;5;124m\"\u001b[39m)\n",
      "Cell \u001b[0;32mIn[80], line 4\u001b[0m, in \u001b[0;36mget_embedding\u001b[0;34m(text, model)\u001b[0m\n\u001b[1;32m      2\u001b[0m \u001b[38;5;250m\u001b[39m\u001b[38;5;124;03m''' Generates the Open AI embedding vector from an input \"text\". '''\u001b[39;00m\n\u001b[1;32m      3\u001b[0m \u001b[38;5;28;01mif\u001b[39;00m \u001b[38;5;28misinstance\u001b[39m(text, \u001b[38;5;28mstr\u001b[39m):\n\u001b[0;32m----> 4\u001b[0m     response \u001b[38;5;241m=\u001b[39m \u001b[43mclient\u001b[49m\u001b[38;5;241;43m.\u001b[39;49m\u001b[43membeddings\u001b[49m\u001b[38;5;241;43m.\u001b[39;49m\u001b[43mcreate\u001b[49m\u001b[43m(\u001b[49m\u001b[38;5;28;43minput\u001b[39;49m\u001b[38;5;241;43m=\u001b[39;49m\u001b[43m[\u001b[49m\u001b[43mtext\u001b[49m\u001b[43m]\u001b[49m\u001b[43m,\u001b[49m\u001b[43m \u001b[49m\u001b[43mmodel\u001b[49m\u001b[43m \u001b[49m\u001b[38;5;241;43m=\u001b[39;49m\u001b[43m \u001b[49m\u001b[43mmodel\u001b[49m\u001b[43m)\u001b[49m\n\u001b[1;32m      5\u001b[0m     \u001b[38;5;28;01mreturn\u001b[39;00m json\u001b[38;5;241m.\u001b[39mdumps(response\u001b[38;5;241m.\u001b[39mdata[\u001b[38;5;241m0\u001b[39m]\u001b[38;5;241m.\u001b[39membedding)\n",
      "File \u001b[0;32m/opt/conda/lib/python3.11/site-packages/openai/resources/embeddings.py:129\u001b[0m, in \u001b[0;36mEmbeddings.create\u001b[0;34m(self, input, model, dimensions, encoding_format, user, extra_headers, extra_query, extra_body, timeout)\u001b[0m\n\u001b[1;32m    123\u001b[0m             embedding\u001b[38;5;241m.\u001b[39membedding \u001b[38;5;241m=\u001b[39m np\u001b[38;5;241m.\u001b[39mfrombuffer(  \u001b[38;5;66;03m# type: ignore[no-untyped-call]\u001b[39;00m\n\u001b[1;32m    124\u001b[0m                 base64\u001b[38;5;241m.\u001b[39mb64decode(data), dtype\u001b[38;5;241m=\u001b[39m\u001b[38;5;124m\"\u001b[39m\u001b[38;5;124mfloat32\u001b[39m\u001b[38;5;124m\"\u001b[39m\n\u001b[1;32m    125\u001b[0m             )\u001b[38;5;241m.\u001b[39mtolist()\n\u001b[1;32m    127\u001b[0m     \u001b[38;5;28;01mreturn\u001b[39;00m obj\n\u001b[0;32m--> 129\u001b[0m \u001b[38;5;28;01mreturn\u001b[39;00m \u001b[38;5;28;43mself\u001b[39;49m\u001b[38;5;241;43m.\u001b[39;49m\u001b[43m_post\u001b[49m\u001b[43m(\u001b[49m\n\u001b[1;32m    130\u001b[0m \u001b[43m    \u001b[49m\u001b[38;5;124;43m\"\u001b[39;49m\u001b[38;5;124;43m/embeddings\u001b[39;49m\u001b[38;5;124;43m\"\u001b[39;49m\u001b[43m,\u001b[49m\n\u001b[1;32m    131\u001b[0m \u001b[43m    \u001b[49m\u001b[43mbody\u001b[49m\u001b[38;5;241;43m=\u001b[39;49m\u001b[43mmaybe_transform\u001b[49m\u001b[43m(\u001b[49m\u001b[43mparams\u001b[49m\u001b[43m,\u001b[49m\u001b[43m \u001b[49m\u001b[43membedding_create_params\u001b[49m\u001b[38;5;241;43m.\u001b[39;49m\u001b[43mEmbeddingCreateParams\u001b[49m\u001b[43m)\u001b[49m\u001b[43m,\u001b[49m\n\u001b[1;32m    132\u001b[0m \u001b[43m    \u001b[49m\u001b[43moptions\u001b[49m\u001b[38;5;241;43m=\u001b[39;49m\u001b[43mmake_request_options\u001b[49m\u001b[43m(\u001b[49m\n\u001b[1;32m    133\u001b[0m \u001b[43m        \u001b[49m\u001b[43mextra_headers\u001b[49m\u001b[38;5;241;43m=\u001b[39;49m\u001b[43mextra_headers\u001b[49m\u001b[43m,\u001b[49m\n\u001b[1;32m    134\u001b[0m \u001b[43m        \u001b[49m\u001b[43mextra_query\u001b[49m\u001b[38;5;241;43m=\u001b[39;49m\u001b[43mextra_query\u001b[49m\u001b[43m,\u001b[49m\n\u001b[1;32m    135\u001b[0m \u001b[43m        \u001b[49m\u001b[43mextra_body\u001b[49m\u001b[38;5;241;43m=\u001b[39;49m\u001b[43mextra_body\u001b[49m\u001b[43m,\u001b[49m\n\u001b[1;32m    136\u001b[0m \u001b[43m        \u001b[49m\u001b[43mtimeout\u001b[49m\u001b[38;5;241;43m=\u001b[39;49m\u001b[43mtimeout\u001b[49m\u001b[43m,\u001b[49m\n\u001b[1;32m    137\u001b[0m \u001b[43m        \u001b[49m\u001b[43mpost_parser\u001b[49m\u001b[38;5;241;43m=\u001b[39;49m\u001b[43mparser\u001b[49m\u001b[43m,\u001b[49m\n\u001b[1;32m    138\u001b[0m \u001b[43m    \u001b[49m\u001b[43m)\u001b[49m\u001b[43m,\u001b[49m\n\u001b[1;32m    139\u001b[0m \u001b[43m    \u001b[49m\u001b[43mcast_to\u001b[49m\u001b[38;5;241;43m=\u001b[39;49m\u001b[43mCreateEmbeddingResponse\u001b[49m\u001b[43m,\u001b[49m\n\u001b[1;32m    140\u001b[0m \u001b[43m\u001b[49m\u001b[43m)\u001b[49m\n",
      "File \u001b[0;32m/opt/conda/lib/python3.11/site-packages/openai/_base_client.py:1239\u001b[0m, in \u001b[0;36mSyncAPIClient.post\u001b[0;34m(self, path, cast_to, body, options, files, stream, stream_cls)\u001b[0m\n\u001b[1;32m   1225\u001b[0m \u001b[38;5;28;01mdef\u001b[39;00m \u001b[38;5;21mpost\u001b[39m(\n\u001b[1;32m   1226\u001b[0m     \u001b[38;5;28mself\u001b[39m,\n\u001b[1;32m   1227\u001b[0m     path: \u001b[38;5;28mstr\u001b[39m,\n\u001b[0;32m   (...)\u001b[0m\n\u001b[1;32m   1234\u001b[0m     stream_cls: \u001b[38;5;28mtype\u001b[39m[_StreamT] \u001b[38;5;241m|\u001b[39m \u001b[38;5;28;01mNone\u001b[39;00m \u001b[38;5;241m=\u001b[39m \u001b[38;5;28;01mNone\u001b[39;00m,\n\u001b[1;32m   1235\u001b[0m ) \u001b[38;5;241m-\u001b[39m\u001b[38;5;241m>\u001b[39m ResponseT \u001b[38;5;241m|\u001b[39m _StreamT:\n\u001b[1;32m   1236\u001b[0m     opts \u001b[38;5;241m=\u001b[39m FinalRequestOptions\u001b[38;5;241m.\u001b[39mconstruct(\n\u001b[1;32m   1237\u001b[0m         method\u001b[38;5;241m=\u001b[39m\u001b[38;5;124m\"\u001b[39m\u001b[38;5;124mpost\u001b[39m\u001b[38;5;124m\"\u001b[39m, url\u001b[38;5;241m=\u001b[39mpath, json_data\u001b[38;5;241m=\u001b[39mbody, files\u001b[38;5;241m=\u001b[39mto_httpx_files(files), \u001b[38;5;241m*\u001b[39m\u001b[38;5;241m*\u001b[39moptions\n\u001b[1;32m   1238\u001b[0m     )\n\u001b[0;32m-> 1239\u001b[0m     \u001b[38;5;28;01mreturn\u001b[39;00m cast(ResponseT, \u001b[38;5;28;43mself\u001b[39;49m\u001b[38;5;241;43m.\u001b[39;49m\u001b[43mrequest\u001b[49m\u001b[43m(\u001b[49m\u001b[43mcast_to\u001b[49m\u001b[43m,\u001b[49m\u001b[43m \u001b[49m\u001b[43mopts\u001b[49m\u001b[43m,\u001b[49m\u001b[43m \u001b[49m\u001b[43mstream\u001b[49m\u001b[38;5;241;43m=\u001b[39;49m\u001b[43mstream\u001b[49m\u001b[43m,\u001b[49m\u001b[43m \u001b[49m\u001b[43mstream_cls\u001b[49m\u001b[38;5;241;43m=\u001b[39;49m\u001b[43mstream_cls\u001b[49m\u001b[43m)\u001b[49m)\n",
      "File \u001b[0;32m/opt/conda/lib/python3.11/site-packages/openai/_base_client.py:1034\u001b[0m, in \u001b[0;36mSyncAPIClient.request\u001b[0;34m(self, cast_to, options, stream, stream_cls)\u001b[0m\n\u001b[1;32m   1031\u001b[0m             err\u001b[38;5;241m.\u001b[39mresponse\u001b[38;5;241m.\u001b[39mread()\n\u001b[1;32m   1033\u001b[0m         log\u001b[38;5;241m.\u001b[39mdebug(\u001b[38;5;124m\"\u001b[39m\u001b[38;5;124mRe-raising status error\u001b[39m\u001b[38;5;124m\"\u001b[39m)\n\u001b[0;32m-> 1034\u001b[0m         \u001b[38;5;28;01mraise\u001b[39;00m \u001b[38;5;28mself\u001b[39m\u001b[38;5;241m.\u001b[39m_make_status_error_from_response(err\u001b[38;5;241m.\u001b[39mresponse) \u001b[38;5;28;01mfrom\u001b[39;00m \u001b[38;5;28;01mNone\u001b[39;00m\n\u001b[1;32m   1036\u001b[0m     \u001b[38;5;28;01mbreak\u001b[39;00m\n\u001b[1;32m   1038\u001b[0m \u001b[38;5;28;01massert\u001b[39;00m response \u001b[38;5;129;01mis\u001b[39;00m \u001b[38;5;129;01mnot\u001b[39;00m \u001b[38;5;28;01mNone\u001b[39;00m, \u001b[38;5;124m\"\u001b[39m\u001b[38;5;124mcould not resolve response (should never happen)\u001b[39m\u001b[38;5;124m\"\u001b[39m\n",
      "\u001b[0;31mRateLimitError\u001b[0m: Error code: 429 - {'error': {'message': 'You exceeded your current quota, please check your plan and billing details. For more information on this error, read the docs: https://platform.openai.com/docs/guides/error-codes/api-errors.', 'type': 'insufficient_quota', 'param': None, 'code': 'insufficient_quota'}}"
     ]
    }
   ],
   "source": [
    "query = input('Ask me a question about video games!')\n",
    "ask_wiki_page(query)"
   ]
  },
  {
   "cell_type": "code",
   "execution_count": null,
   "id": "55def356-bcbd-4fc7-becf-9464b5b0dcd1",
   "metadata": {
    "language": "sql",
    "trusted": true
   },
   "outputs": [],
   "source": []
  }
 ],
 "metadata": {
  "jupyterlab": {
   "notebooks": {
    "version_major": 6,
    "version_minor": 4
   }
  },
  "kernelspec": {
   "display_name": "Python 3",
   "language": "python",
   "name": "python3"
  },
  "language_info": {
   "codemirror_mode": {
    "name": "ipython",
    "version": 3
   },
   "file_extension": ".py",
   "mimetype": "text/x-python",
   "name": "python",
   "nbconvert_exporter": "python",
   "pygments_lexer": "ipython3",
   "version": "3.11.13"
  },
  "singlestore_cell_default_language": "sql",
  "singlestore_connection": {
   "connectionID": "",
   "defaultDatabase": ""
  },
  "singlestore_row_limit": 300
 },
 "nbformat": 4,
 "nbformat_minor": 5
}
